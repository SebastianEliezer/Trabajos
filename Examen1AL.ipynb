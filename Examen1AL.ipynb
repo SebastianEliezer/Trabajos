{
  "nbformat": 4,
  "nbformat_minor": 0,
  "metadata": {
    "colab": {
      "provenance": [],
      "include_colab_link": true
    },
    "kernelspec": {
      "name": "python3",
      "display_name": "Python 3"
    },
    "language_info": {
      "name": "python"
    }
  },
  "cells": [
    {
      "cell_type": "markdown",
      "metadata": {
        "id": "view-in-github",
        "colab_type": "text"
      },
      "source": [
        "<a href=\"https://colab.research.google.com/github/SebastianEliezer/Trabajos/blob/main/Examen1AL.ipynb\" target=\"_parent\"><img src=\"https://colab.research.google.com/assets/colab-badge.svg\" alt=\"Open In Colab\"/></a>"
      ]
    },
    {
      "cell_type": "markdown",
      "source": [
        "## Algebra Lineal\n",
        "\n",
        "### 1er examen parcial"
      ],
      "metadata": {
        "id": "m93nhBA98vRW"
      }
    },
    {
      "cell_type": "code",
      "source": [
        "!pip install --target=$nb_path nacal\n",
        "from nacal import *"
      ],
      "metadata": {
        "colab": {
          "base_uri": "https://localhost:8080/"
        },
        "id": "cT-DQUNTB0Rx",
        "outputId": "5e9271b8-2c40-4050-9e36-be7947b1d1de"
      },
      "execution_count": 13,
      "outputs": [
        {
          "output_type": "stream",
          "name": "stdout",
          "text": [
            "Requirement already satisfied: nacal in /usr/local/lib/python3.10/dist-packages (0.1.30)\n",
            "Requirement already satisfied: sympy>=1.1.0 in /usr/local/lib/python3.10/dist-packages (from nacal) (1.12)\n",
            "Requirement already satisfied: mpmath>=0.19 in /usr/local/lib/python3.10/dist-packages (from sympy>=1.1.0->nacal) (1.3.0)\n"
          ]
        }
      ]
    },
    {
      "cell_type": "markdown",
      "source": [
        "EN este notebook deberás realizar cada uno de los ejercicios utilizando Python dentro de los bloques de código, si alguna salida requiere la visualización mediante Latex escribe el bloque correspondiente."
      ],
      "metadata": {
        "id": "OWBcJp7z9U8G"
      }
    },
    {
      "cell_type": "markdown",
      "metadata": {
        "id": "kXLRi02u_bK6"
      },
      "source": [
        "1. Genere los vectores $a$ y $ {b}$:\n",
        "\n",
        "-   el vector ${a}$ está formado por la lista de números: 1, 4, 9, 2, -5, π\n",
        "-   el vector ${b}$ está formado por la lista de números: 1, 2, 1, 0, 0.01,  $\\sqrt 2$\n",
        "-   súmelos"
      ]
    },
    {
      "cell_type": "code",
      "execution_count": 16,
      "metadata": {
        "id": "7GzeUtyj8qwb",
        "colab": {
          "base_uri": "https://localhost:8080/",
          "height": 64
        },
        "outputId": "dcc0468c-67a3-4a28-8b75-bd5af65d565b"
      },
      "outputs": [
        {
          "output_type": "stream",
          "name": "stdout",
          "text": [
            "Vector([1, 4, 9, 2, -5, 3.1416])\n"
          ]
        },
        {
          "output_type": "execute_result",
          "data": {
            "text/plain": [
              "Vector([1, 4, 9, 2, -5, 3.1416])"
            ],
            "text/html": [
              "<p style=\"text-align:center;\">$\\begin{pmatrix}1\\\\ 4\\\\ 9\\\\ 2\\\\ -5\\\\ 3.1416\\end{pmatrix}$</p>"
            ],
            "image/png": "$\\begin{pmatrix}1\\\\ 4\\\\ 9\\\\ 2\\\\ -5\\\\ 3.1416\\end{pmatrix}$",
            "text/latex": "$\\begin{pmatrix}1\\\\ 4\\\\ 9\\\\ 2\\\\ -5\\\\ 3.1416\\end{pmatrix}$"
          },
          "metadata": {},
          "execution_count": 16
        }
      ],
      "source": [
        "π=3.1416\n",
        "a = Vector ([1,4,9,2,-5,π])\n",
        "print(a)\n",
        "a"
      ]
    },
    {
      "cell_type": "markdown",
      "source": [
        "a=$\\begin{pmatrix}1\\\\ 4\\\\ 9\\\\ 2\\\\ -5\\\\ 3.1416\\end{pmatrix}$"
      ],
      "metadata": {
        "id": "N7lU_LwvFf2W"
      }
    },
    {
      "cell_type": "code",
      "source": [
        "sqrt=1.41\n",
        "b = Vector ([1,2,1,0,0.01,sqrt])\n",
        "print(b)\n",
        "b"
      ],
      "metadata": {
        "colab": {
          "base_uri": "https://localhost:8080/",
          "height": 64
        },
        "id": "hVT_1C5VCdPX",
        "outputId": "04f06c91-5d5a-4a04-ae7d-8d570e98c50b"
      },
      "execution_count": 23,
      "outputs": [
        {
          "output_type": "stream",
          "name": "stdout",
          "text": [
            "Vector([1, 2, 1, 0, 0.01, 1.41])\n"
          ]
        },
        {
          "output_type": "execute_result",
          "data": {
            "text/plain": [
              "Vector([1, 2, 1, 0, 0.01, 1.41])"
            ],
            "text/html": [
              "<p style=\"text-align:center;\">$\\begin{pmatrix}1\\\\ 2\\\\ 1\\\\ 0\\\\ 0.01\\\\ 1.41\\end{pmatrix}$</p>"
            ],
            "image/png": "$\\begin{pmatrix}1\\\\ 2\\\\ 1\\\\ 0\\\\ 0.01\\\\ 1.41\\end{pmatrix}$",
            "text/latex": "$\\begin{pmatrix}1\\\\ 2\\\\ 1\\\\ 0\\\\ 0.01\\\\ 1.41\\end{pmatrix}$"
          },
          "metadata": {},
          "execution_count": 23
        }
      ]
    },
    {
      "cell_type": "markdown",
      "source": [
        "b=$\\begin{pmatrix}1\\\\ 2\\\\ 1\\\\ 0\\\\ 0.01\\\\ 1.41\\end{pmatrix}$"
      ],
      "metadata": {
        "id": "8UGwJj50FjK9"
      }
    },
    {
      "cell_type": "code",
      "source": [
        "print(a+b)\n",
        "a+b"
      ],
      "metadata": {
        "colab": {
          "base_uri": "https://localhost:8080/",
          "height": 64
        },
        "id": "hCVzmR9CE2wH",
        "outputId": "8e23ef84-09db-4d52-ceab-7eafec69df20"
      },
      "execution_count": 25,
      "outputs": [
        {
          "output_type": "stream",
          "name": "stdout",
          "text": [
            "Vector([2, 6, 10, 2, -4.99, 4.5516])\n"
          ]
        },
        {
          "output_type": "execute_result",
          "data": {
            "text/plain": [
              "Vector([2, 6, 10, 2, -4.99, 4.5516])"
            ],
            "text/html": [
              "<p style=\"text-align:center;\">$\\begin{pmatrix}2\\\\ 6\\\\ 10\\\\ 2\\\\ -4.99\\\\ 4.5516\\end{pmatrix}$</p>"
            ],
            "image/png": "$\\begin{pmatrix}2\\\\ 6\\\\ 10\\\\ 2\\\\ -4.99\\\\ 4.5516\\end{pmatrix}$",
            "text/latex": "$\\begin{pmatrix}2\\\\ 6\\\\ 10\\\\ 2\\\\ -4.99\\\\ 4.5516\\end{pmatrix}$"
          },
          "metadata": {},
          "execution_count": 25
        }
      ]
    },
    {
      "cell_type": "markdown",
      "source": [
        "Sumatoria=$\\begin{pmatrix}2\\\\ 6\\\\ 10\\\\ 2\\\\ -4.99\\\\ 4.5516\\end{pmatrix}$"
      ],
      "metadata": {
        "id": "EBK4seOHFwEk"
      }
    },
    {
      "cell_type": "markdown",
      "metadata": {
        "id": "6FIT3apxOYdq"
      },
      "source": [
        "2. Proporcione ejemplos de matrices 3 por 3 no nulas de los siguientes\n",
        "tipos de matrices:\n",
        "\n",
        "-   Una matriz diagonal\n",
        "\n"
      ]
    },
    {
      "cell_type": "markdown",
      "metadata": {
        "id": "WMMsUBTtOYdq"
      },
      "source": [
        "-   Una matriz simétrica\n",
        "\n"
      ]
    },
    {
      "cell_type": "code",
      "execution_count": 27,
      "metadata": {
        "id": "a7YW_5VFOYdq",
        "colab": {
          "base_uri": "https://localhost:8080/",
          "height": 64
        },
        "outputId": "2d5fe962-52ca-4ccb-b781-839c9de5cdf3"
      },
      "outputs": [
        {
          "output_type": "stream",
          "name": "stdout",
          "text": [
            "Matrix([Vector([1, 0, 0]), Vector([0, 1, 0]), Vector([0, 0, 1])])\n"
          ]
        },
        {
          "output_type": "execute_result",
          "data": {
            "text/plain": [
              "Matrix([Vector([1, 0, 0]), Vector([0, 1, 0]), Vector([0, 0, 1])])"
            ],
            "text/html": [
              "<p style=\"text-align:center;\">$\\left[ \\begin{array}{ccc}1&0&0\\\\0&1&0\\\\0&0&1\\\\ \\end{array} \\right]$</p>"
            ],
            "image/png": "$\\left[ \\begin{array}{ccc}1&0&0\\\\0&1&0\\\\0&0&1\\\\ \\end{array} \\right]$",
            "text/latex": "$\\left[ \\begin{array}{ccc}1&0&0\\\\0&1&0\\\\0&0&1\\\\ \\end{array} \\right]$"
          },
          "metadata": {},
          "execution_count": 27
        }
      ],
      "source": [
        "x = Vector ([1,0,0])\n",
        "y = Vector ([0,1,0])\n",
        "z = Vector ([0,0,1])\n",
        "E = Matrix ([x,y,z])\n",
        "print(E)\n",
        "E"
      ]
    },
    {
      "cell_type": "markdown",
      "source": [
        "E=$\\left[ \\begin{array}{ccc}1&0&0\\\\0&1&0\\\\0&0&1\\\\ \\end{array} \\right]$"
      ],
      "metadata": {
        "id": "3rxtPDR8GcGR"
      }
    },
    {
      "cell_type": "code",
      "source": [
        "j = Vector ([1,4,7])\n",
        "k = Vector ([2,5,8])\n",
        "m = Vector ([3,6,9])\n",
        "W = Matrix ([j,k,m])\n",
        "print(W)\n",
        "W"
      ],
      "metadata": {
        "colab": {
          "base_uri": "https://localhost:8080/",
          "height": 64
        },
        "id": "Zj9WpndkGegS",
        "outputId": "9484e4cf-82ce-4724-836a-acbe54fd3a9f"
      },
      "execution_count": 31,
      "outputs": [
        {
          "output_type": "stream",
          "name": "stdout",
          "text": [
            "Matrix([Vector([1, 4, 7]), Vector([2, 5, 8]), Vector([3, 6, 9])])\n"
          ]
        },
        {
          "output_type": "execute_result",
          "data": {
            "text/plain": [
              "Matrix([Vector([1, 4, 7]), Vector([2, 5, 8]), Vector([3, 6, 9])])"
            ],
            "text/html": [
              "<p style=\"text-align:center;\">$\\left[ \\begin{array}{ccc}1&2&3\\\\4&5&6\\\\7&8&9\\\\ \\end{array} \\right]$</p>"
            ],
            "image/png": "$\\left[ \\begin{array}{ccc}1&2&3\\\\4&5&6\\\\7&8&9\\\\ \\end{array} \\right]$",
            "text/latex": "$\\left[ \\begin{array}{ccc}1&2&3\\\\4&5&6\\\\7&8&9\\\\ \\end{array} \\right]$"
          },
          "metadata": {},
          "execution_count": 31
        }
      ]
    },
    {
      "cell_type": "markdown",
      "source": [
        "W=$\\left[ \\begin{array}{ccc}1&2&3\\\\4&5&6\\\\7&8&9\\\\ \\end{array} \\right]$"
      ],
      "metadata": {
        "id": "LSmYsmoWG2j5"
      }
    },
    {
      "cell_type": "markdown",
      "metadata": {
        "id": "roLWrzwXj1X6"
      },
      "source": [
        "3. Cree la matriz\n",
        "$${A}=\\begin{bmatrix}1&0&0&-1\\\\2&0&7&0\\\\-4&3&3&0\\\\0&3&4&1\\\\7&1&2&1\\end{bmatrix}$$\n",
        "\n"
      ]
    },
    {
      "cell_type": "code",
      "source": [
        "s = Vector ([1,2,-4,0,7])\n",
        "d = Vector ([0,0,3,3,1])\n",
        "f = Vector ([0,7,3,4,2])\n",
        "g = Vector ([-1,0,0,1,1])\n",
        "A = Matrix ([s,d,f,g])\n",
        "print(A)\n",
        "A"
      ],
      "metadata": {
        "colab": {
          "base_uri": "https://localhost:8080/",
          "height": 64
        },
        "id": "Fq90yj5cDSF7",
        "outputId": "c8abba39-6430-4da3-b7d9-bfe7fa0f2e88"
      },
      "execution_count": 40,
      "outputs": [
        {
          "output_type": "stream",
          "name": "stdout",
          "text": [
            "Matrix([Vector([1, 2, -4, 0, 7]), Vector([0, 0, 3, 3, 1]), Vector([0, 7, 3, 4, 2]), Vector([-1, 0, 0, 1, 1])])\n"
          ]
        },
        {
          "output_type": "execute_result",
          "data": {
            "text/plain": [
              "Matrix([Vector([1, 2, -4, 0, 7]), Vector([0, 0, 3, 3, 1]), Vector([0, 7, 3, 4, 2]), Vector([-1, 0, 0, 1, 1])])"
            ],
            "text/html": [
              "<p style=\"text-align:center;\">$\\left[ \\begin{array}{cccc}1&0&0&-1\\\\2&0&7&0\\\\-4&3&3&0\\\\0&3&4&1\\\\7&1&2&1\\\\ \\end{array} \\right]$</p>"
            ],
            "image/png": "$\\left[ \\begin{array}{cccc}1&0&0&-1\\\\2&0&7&0\\\\-4&3&3&0\\\\0&3&4&1\\\\7&1&2&1\\\\ \\end{array} \\right]$",
            "text/latex": "$\\left[ \\begin{array}{cccc}1&0&0&-1\\\\2&0&7&0\\\\-4&3&3&0\\\\0&3&4&1\\\\7&1&2&1\\\\ \\end{array} \\right]$"
          },
          "metadata": {},
          "execution_count": 40
        }
      ]
    },
    {
      "cell_type": "markdown",
      "metadata": {
        "id": "96CPH5a_j1X9"
      },
      "source": [
        "Calcule el siguiente vector: 3 veces la primera columna de $A$\n",
        "mas la segunda columna de $A$ menos 2 veces la tercera columna\n",
        "menos 3 veces la última columna de $A$\n",
        "\n"
      ]
    },
    {
      "cell_type": "code",
      "execution_count": 52,
      "metadata": {
        "id": "DLRtU4HDOYdq",
        "colab": {
          "base_uri": "https://localhost:8080/",
          "height": 64
        },
        "outputId": "8fefc588-4b94-4006-8941-782b787f444d"
      },
      "outputs": [
        {
          "output_type": "stream",
          "name": "stdout",
          "text": [
            "Vector([6, -8, -15, -8, 15])\n"
          ]
        },
        {
          "output_type": "execute_result",
          "data": {
            "text/plain": [
              "Vector([6, -8, -15, -8, 15])"
            ],
            "text/html": [
              "<p style=\"text-align:center;\">$\\begin{pmatrix}6\\\\ -8\\\\ -15\\\\ -8\\\\ 15\\end{pmatrix}$</p>"
            ],
            "image/png": "$\\begin{pmatrix}6\\\\ -8\\\\ -15\\\\ -8\\\\ 15\\end{pmatrix}$",
            "text/latex": "$\\begin{pmatrix}6\\\\ -8\\\\ -15\\\\ -8\\\\ 15\\end{pmatrix}$"
          },
          "metadata": {},
          "execution_count": 52
        }
      ],
      "source": [
        "print((3*(A|1))+((A|2))-(2*(A|3))-(3*(A|4)))\n",
        "(3*(A|1))+((A|2))-(2*(A|3))-(3*(A|4))"
      ]
    },
    {
      "cell_type": "markdown",
      "source": [
        "Vector=$\\begin{pmatrix}6\\\\ -8\\\\ -15\\\\ -8\\\\ 15\\end{pmatrix}$"
      ],
      "metadata": {
        "id": "uQSTHeJPJwdB"
      }
    },
    {
      "cell_type": "markdown",
      "metadata": {
        "ein.tags": "worksheet-0",
        "id": "kjhE4PPdWKYI"
      },
      "source": [
        "4. Matriz por vector (combinaciones lineales de las columnas de una matriz)\n",
        "\n",
        "Considere los vectores ${x}=(1, 1, -2)$, ${y}=(1, -2, 1)$\n",
        "\n",
        "y\n",
        "${z}=(-2, 1, 1)$ y verifique que\n",
        "$2{x}+2{y}+2{z}={0}$\n",
        "\n",
        "que resultado da : $4x+4y+4z$\n",
        "\n",
        "y que resultado da:  $-3x-3y-3z$"
      ]
    },
    {
      "cell_type": "code",
      "source": [
        "x = Vector ([1,1,-2])\n",
        "x"
      ],
      "metadata": {
        "colab": {
          "base_uri": "https://localhost:8080/",
          "height": 46
        },
        "id": "ne6yv3bdJ9F-",
        "outputId": "0c5e37d9-4400-4358-f1dc-ab6bc1559630"
      },
      "execution_count": 64,
      "outputs": [
        {
          "output_type": "execute_result",
          "data": {
            "text/plain": [
              "Vector([1, 1, -2])"
            ],
            "text/html": [
              "<p style=\"text-align:center;\">$\\begin{pmatrix}1\\\\ 1\\\\ -2\\end{pmatrix}$</p>"
            ],
            "image/png": "$\\begin{pmatrix}1\\\\ 1\\\\ -2\\end{pmatrix}$",
            "text/latex": "$\\begin{pmatrix}1\\\\ 1\\\\ -2\\end{pmatrix}$"
          },
          "metadata": {},
          "execution_count": 64
        }
      ]
    },
    {
      "cell_type": "markdown",
      "source": [
        "$\\begin{pmatrix}1\\\\ 1\\\\ -2\\end{pmatrix}$"
      ],
      "metadata": {
        "id": "Nuw-aHyDNlW1"
      }
    },
    {
      "cell_type": "code",
      "source": [
        "y = Vector ([1,-2,1])\n",
        "y"
      ],
      "metadata": {
        "colab": {
          "base_uri": "https://localhost:8080/",
          "height": 46
        },
        "id": "rax_tRcqNFfv",
        "outputId": "b2da35dc-073a-443d-fc23-78cc4fb43696"
      },
      "execution_count": 65,
      "outputs": [
        {
          "output_type": "execute_result",
          "data": {
            "text/plain": [
              "Vector([1, -2, 1])"
            ],
            "text/html": [
              "<p style=\"text-align:center;\">$\\begin{pmatrix}1\\\\ -2\\\\ 1\\end{pmatrix}$</p>"
            ],
            "image/png": "$\\begin{pmatrix}1\\\\ -2\\\\ 1\\end{pmatrix}$",
            "text/latex": "$\\begin{pmatrix}1\\\\ -2\\\\ 1\\end{pmatrix}$"
          },
          "metadata": {},
          "execution_count": 65
        }
      ]
    },
    {
      "cell_type": "markdown",
      "source": [
        "$\\begin{pmatrix}1\\\\ -2\\\\ 1\\end{pmatrix}$"
      ],
      "metadata": {
        "id": "pygcPdlxNnZ1"
      }
    },
    {
      "cell_type": "code",
      "source": [
        "z = Vector ([-2,1,1])\n",
        "z"
      ],
      "metadata": {
        "colab": {
          "base_uri": "https://localhost:8080/",
          "height": 46
        },
        "id": "ZA3LbR00NdCt",
        "outputId": "885b1d09-d135-466a-ac4e-5a6fa39ec75b"
      },
      "execution_count": 69,
      "outputs": [
        {
          "output_type": "execute_result",
          "data": {
            "text/plain": [
              "Vector([-2, 1, 1])"
            ],
            "text/html": [
              "<p style=\"text-align:center;\">$\\begin{pmatrix}-2\\\\ 1\\\\ 1\\end{pmatrix}$</p>"
            ],
            "image/png": "$\\begin{pmatrix}-2\\\\ 1\\\\ 1\\end{pmatrix}$",
            "text/latex": "$\\begin{pmatrix}-2\\\\ 1\\\\ 1\\end{pmatrix}$"
          },
          "metadata": {},
          "execution_count": 69
        }
      ]
    },
    {
      "cell_type": "markdown",
      "source": [
        "$\\begin{pmatrix}-2\\\\ 1\\\\ 1\\end{pmatrix}$"
      ],
      "metadata": {
        "id": "Q_Gt5AzVNpv1"
      }
    },
    {
      "cell_type": "code",
      "source": [
        "print((2*(x))+(2*(y))+(2*(z)))\n",
        "(-3*(x))-(-3*(y))-(-3*(z))"
      ],
      "metadata": {
        "colab": {
          "base_uri": "https://localhost:8080/",
          "height": 64
        },
        "id": "GO3xnGTZOVvC",
        "outputId": "8b2e893f-8529-478c-c9c1-cb2d0735cc1c"
      },
      "execution_count": 75,
      "outputs": [
        {
          "output_type": "stream",
          "name": "stdout",
          "text": [
            "Vector([0, 0, 0])\n"
          ]
        },
        {
          "output_type": "execute_result",
          "data": {
            "text/plain": [
              "Vector([-6, -6, 12])"
            ],
            "text/html": [
              "<p style=\"text-align:center;\">$\\begin{pmatrix}-6\\\\ -6\\\\ 12\\end{pmatrix}$</p>"
            ],
            "image/png": "$\\begin{pmatrix}-6\\\\ -6\\\\ 12\\end{pmatrix}$",
            "text/latex": "$\\begin{pmatrix}-6\\\\ -6\\\\ 12\\end{pmatrix}$"
          },
          "metadata": {},
          "execution_count": 75
        }
      ]
    },
    {
      "cell_type": "code",
      "source": [
        "print((4*(x))+(4*(y))+(4*(z)))\n",
        "(4*(x))+(4*(y))+(4*(z))"
      ],
      "metadata": {
        "colab": {
          "base_uri": "https://localhost:8080/",
          "height": 64
        },
        "id": "sNEu047jNOfW",
        "outputId": "4a1a70c0-f437-44a0-8c68-751319c031b9"
      },
      "execution_count": 73,
      "outputs": [
        {
          "output_type": "stream",
          "name": "stdout",
          "text": [
            "Vector([0, 0, 0])\n"
          ]
        },
        {
          "output_type": "execute_result",
          "data": {
            "text/plain": [
              "Vector([0, 0, 0])"
            ],
            "text/html": [
              "<p style=\"text-align:center;\">$\\begin{pmatrix}0\\\\ 0\\\\ 0\\end{pmatrix}$</p>"
            ],
            "image/png": "$\\begin{pmatrix}0\\\\ 0\\\\ 0\\end{pmatrix}$",
            "text/latex": "$\\begin{pmatrix}0\\\\ 0\\\\ 0\\end{pmatrix}$"
          },
          "metadata": {},
          "execution_count": 73
        }
      ]
    },
    {
      "cell_type": "code",
      "source": [
        "print((4*(x))+(4*(y))+(4*(z)))\n",
        "(4*(x))+(4*(y))+(4*(z))"
      ],
      "metadata": {
        "id": "8zAlaRAfOeJa"
      },
      "execution_count": null,
      "outputs": []
    },
    {
      "cell_type": "markdown",
      "source": [
        "$\\begin{pmatrix}0\\\\ 0\\\\ 0\\end{pmatrix}$"
      ],
      "metadata": {
        "id": "YKz7ZC0bODtL"
      }
    },
    {
      "cell_type": "markdown",
      "metadata": {
        "ein.tags": "worksheet-0",
        "id": "_38hNp-wcDuB"
      },
      "source": [
        "5. Escribe una matriz C del mismo orden que A y verifica que\n",
        "$$\n",
        "({A}{C})^T={C}^T{A}^T\n",
        "$$"
      ]
    },
    {
      "cell_type": "code",
      "source": [
        "print((2*(x))+(2*(y))+(2*(z)))"
      ],
      "metadata": {
        "id": "uI88M2QEOJkL"
      },
      "execution_count": null,
      "outputs": []
    },
    {
      "cell_type": "code",
      "source": [
        "j = Vector ([1,4,7])\n",
        "k = Vector ([2,5,8])\n",
        "m = Vector ([3,6,9])\n",
        "A = Matrix ([j,k,m])\n",
        "print(C)\n",
        "A"
      ],
      "metadata": {
        "id": "frH6ZOYnmErd",
        "colab": {
          "base_uri": "https://localhost:8080/",
          "height": 64
        },
        "outputId": "b7f10c08-6d0f-402d-db74-e0daf6a74959"
      },
      "execution_count": 58,
      "outputs": [
        {
          "output_type": "stream",
          "name": "stdout",
          "text": [
            "Matrix([Vector([11, 14, 17]), Vector([12, 15, 18]), Vector([13, 16, 19])])\n"
          ]
        },
        {
          "output_type": "execute_result",
          "data": {
            "text/plain": [
              "Matrix([Vector([1, 4, 7]), Vector([2, 5, 8]), Vector([3, 6, 9])])"
            ],
            "text/html": [
              "<p style=\"text-align:center;\">$\\left[ \\begin{array}{ccc}1&2&3\\\\4&5&6\\\\7&8&9\\\\ \\end{array} \\right]$</p>"
            ],
            "image/png": "$\\left[ \\begin{array}{ccc}1&2&3\\\\4&5&6\\\\7&8&9\\\\ \\end{array} \\right]$",
            "text/latex": "$\\left[ \\begin{array}{ccc}1&2&3\\\\4&5&6\\\\7&8&9\\\\ \\end{array} \\right]$"
          },
          "metadata": {},
          "execution_count": 58
        }
      ]
    },
    {
      "cell_type": "markdown",
      "source": [
        "$\\left[ \\begin{array}{ccc}1&2&3\\\\4&5&6\\\\7&8&9\\\\ \\end{array} \\right]$"
      ],
      "metadata": {
        "id": "TdiSGd8YKlAm"
      }
    },
    {
      "cell_type": "code",
      "source": [
        "z1 = Vector ([11,14,17])\n",
        "z2 = Vector ([12,15,18])\n",
        "z3 = Vector ([13,16,19])\n",
        "C = Matrix ([z1,z2,z3])\n",
        "print(C)\n",
        "C"
      ],
      "metadata": {
        "colab": {
          "base_uri": "https://localhost:8080/",
          "height": 64
        },
        "id": "5ljxyqOcKOIG",
        "outputId": "001d0991-5a9f-4326-e298-3263b1ac9c4a"
      },
      "execution_count": 57,
      "outputs": [
        {
          "output_type": "stream",
          "name": "stdout",
          "text": [
            "Matrix([Vector([11, 14, 17]), Vector([12, 15, 18]), Vector([13, 16, 19])])\n"
          ]
        },
        {
          "output_type": "execute_result",
          "data": {
            "text/plain": [
              "Matrix([Vector([11, 14, 17]), Vector([12, 15, 18]), Vector([13, 16, 19])])"
            ],
            "text/html": [
              "<p style=\"text-align:center;\">$\\left[ \\begin{array}{ccc}11&12&13\\\\14&15&16\\\\17&18&19\\\\ \\end{array} \\right]$</p>"
            ],
            "image/png": "$\\left[ \\begin{array}{ccc}11&12&13\\\\14&15&16\\\\17&18&19\\\\ \\end{array} \\right]$",
            "text/latex": "$\\left[ \\begin{array}{ccc}11&12&13\\\\14&15&16\\\\17&18&19\\\\ \\end{array} \\right]$"
          },
          "metadata": {},
          "execution_count": 57
        }
      ]
    },
    {
      "cell_type": "markdown",
      "source": [
        "$\\left[ \\begin{array}{ccc}11&12&13\\\\14&15&16\\\\17&18&19\\\\ \\end{array} \\right]$"
      ],
      "metadata": {
        "id": "KF-7zBObKngO"
      }
    },
    {
      "cell_type": "code",
      "source": [
        "print(~(A*C))\n",
        "~(A*C)"
      ],
      "metadata": {
        "colab": {
          "base_uri": "https://localhost:8080/",
          "height": 64
        },
        "id": "R1ZlIMysKyId",
        "outputId": "cca8efbf-3445-4f33-c2ef-f2829cf4ca61"
      },
      "execution_count": 63,
      "outputs": [
        {
          "output_type": "stream",
          "name": "stdout",
          "text": [
            "Matrix([Vector([90, 96, 102]), Vector([216, 231, 246]), Vector([342, 366, 390])])\n"
          ]
        },
        {
          "output_type": "execute_result",
          "data": {
            "text/plain": [
              "Matrix([Vector([90, 96, 102]), Vector([216, 231, 246]), Vector([342, 366, 390])])"
            ],
            "text/html": [
              "<p style=\"text-align:center;\">$\\left[ \\begin{array}{ccc}90&216&342\\\\96&231&366\\\\102&246&390\\\\ \\end{array} \\right]$</p>"
            ],
            "image/png": "$\\left[ \\begin{array}{ccc}90&216&342\\\\96&231&366\\\\102&246&390\\\\ \\end{array} \\right]$",
            "text/latex": "$\\left[ \\begin{array}{ccc}90&216&342\\\\96&231&366\\\\102&246&390\\\\ \\end{array} \\right]$"
          },
          "metadata": {},
          "execution_count": 63
        }
      ]
    },
    {
      "cell_type": "markdown",
      "source": [
        "$\\left[ \\begin{array}{ccc}90&216&342\\\\96&231&366\\\\102&246&390\\\\ \\end{array} \\right]$"
      ],
      "metadata": {
        "id": "f-ntqj5TL5wS"
      }
    },
    {
      "cell_type": "code",
      "source": [
        "print(~C*~A)"
      ],
      "metadata": {
        "colab": {
          "base_uri": "https://localhost:8080/"
        },
        "id": "Sl2pP3KpLqWz",
        "outputId": "a498a8d5-1a35-400e-f051-a6c4bd62192c"
      },
      "execution_count": 62,
      "outputs": [
        {
          "output_type": "stream",
          "name": "stdout",
          "text": [
            "Matrix([Vector([90, 96, 102]), Vector([216, 231, 246]), Vector([342, 366, 390])])\n"
          ]
        }
      ]
    },
    {
      "cell_type": "markdown",
      "metadata": {
        "ein.tags": "worksheet-0",
        "id": "Hin_mRv6cDtt"
      },
      "source": [
        "6. Verifique que\n",
        "$\n",
        "{A}{I}={A}\n",
        "$\n",
        "y que\n",
        "$\n",
        "{I}{A}={A}\n",
        "$"
      ]
    },
    {
      "cell_type": "code",
      "execution_count": null,
      "metadata": {
        "autoscroll": false,
        "ein.hycell": false,
        "ein.tags": "worksheet-0",
        "id": "8dfGpxIdcDtt"
      },
      "outputs": [],
      "source": []
    },
    {
      "cell_type": "markdown",
      "source": [
        "7. Producto punto\n",
        "Considere los vectores ${x}=(1, 1, -2)$, ${y}=(1, -2, 1)$\n",
        "calcula el producto punto"
      ],
      "metadata": {
        "id": "aHZ16S1peAeY"
      }
    },
    {
      "cell_type": "code",
      "source": [],
      "metadata": {
        "id": "QPfhac1geMQK"
      },
      "execution_count": null,
      "outputs": []
    }
  ]
}