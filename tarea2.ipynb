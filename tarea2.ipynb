{
  "nbformat": 4,
  "nbformat_minor": 0,
  "metadata": {
    "colab": {
      "provenance": [],
      "authorship_tag": "ABX9TyMMalx09bVmIOlPJNcyoAIv",
      "include_colab_link": true
    },
    "kernelspec": {
      "name": "python3",
      "display_name": "Python 3"
    },
    "language_info": {
      "name": "python"
    }
  },
  "cells": [
    {
      "cell_type": "markdown",
      "metadata": {
        "id": "view-in-github",
        "colab_type": "text"
      },
      "source": [
        "<a href=\"https://colab.research.google.com/github/SebastianEliezer/Trabajos/blob/main/tarea2.ipynb\" target=\"_parent\"><img src=\"https://colab.research.google.com/assets/colab-badge.svg\" alt=\"Open In Colab\"/></a>"
      ]
    },
    {
      "cell_type": "markdown",
      "source": [
        "# *Tarea 2*"
      ],
      "metadata": {
        "id": "48WGpFIJiOdf"
      }
    },
    {
      "cell_type": "markdown",
      "source": [
        "*Problema 4*"
      ],
      "metadata": {
        "id": "A_DOxTD5qkR8"
      }
    },
    {
      "cell_type": "code",
      "execution_count": null,
      "metadata": {
        "colab": {
          "base_uri": "https://localhost:8080/"
        },
        "id": "2HVO-FLNiNkB",
        "outputId": "7adf5948-3c7c-42a7-8ac2-7d13dd4cf8e3"
      },
      "outputs": [
        {
          "output_type": "stream",
          "name": "stdout",
          "text": [
            "Collecting nacal\n",
            "  Downloading nacal-0.1.30-py3-none-any.whl (33 kB)\n",
            "Requirement already satisfied: sympy>=1.1.0 in /usr/local/lib/python3.10/dist-packages (from nacal) (1.12)\n",
            "Requirement already satisfied: mpmath>=0.19 in /usr/local/lib/python3.10/dist-packages (from sympy>=1.1.0->nacal) (1.3.0)\n",
            "Installing collected packages: nacal\n",
            "Successfully installed nacal-0.1.30\n"
          ]
        }
      ],
      "source": [
        "!pip install --target=$nb_path nacal\n",
        "from nacal import *"
      ]
    },
    {
      "cell_type": "markdown",
      "source": [
        "$\\begin{pmatrix}\n",
        "4\\\\\n",
        "5\\\\\n",
        "6\\\\\n",
        "\\end{pmatrix}\n",
        "+\n",
        "\\begin{pmatrix}\n",
        "-4\\\\\n",
        "-5\\\\\n",
        "-6\\\\\n",
        "\\end{pmatrix}\n",
        "=\n",
        "\\begin{pmatrix}\n",
        "0\\\\\n",
        "0\\\\\n",
        "0\\\\\n",
        "\\end{pmatrix}\n",
        "?\n",
        "$"
      ],
      "metadata": {
        "id": "a9qU4X6bnNU_"
      }
    },
    {
      "cell_type": "code",
      "source": [
        "a = Vector ([4, 5, 6])\n",
        "a"
      ],
      "metadata": {
        "colab": {
          "base_uri": "https://localhost:8080/",
          "height": 46
        },
        "id": "l-wAvA0lnN-h",
        "outputId": "164eb117-3451-42dd-c443-9f7720042944"
      },
      "execution_count": null,
      "outputs": [
        {
          "output_type": "execute_result",
          "data": {
            "text/plain": [
              "Vector([4, 5, 6])"
            ],
            "text/html": [
              "<p style=\"text-align:center;\">$\\begin{pmatrix}4\\\\ 5\\\\ 6\\end{pmatrix}$</p>"
            ],
            "image/png": "$\\begin{pmatrix}4\\\\ 5\\\\ 6\\end{pmatrix}$",
            "text/latex": "$\\begin{pmatrix}4\\\\ 5\\\\ 6\\end{pmatrix}$"
          },
          "metadata": {},
          "execution_count": 4
        }
      ]
    },
    {
      "cell_type": "code",
      "source": [
        "b = Vector ([-4, -5, -6])\n",
        "b"
      ],
      "metadata": {
        "colab": {
          "base_uri": "https://localhost:8080/",
          "height": 46
        },
        "id": "_58Ik7oJnOHT",
        "outputId": "4d3e3742-e079-421d-f510-835cd94960d0"
      },
      "execution_count": null,
      "outputs": [
        {
          "output_type": "execute_result",
          "data": {
            "text/plain": [
              "Vector([-4, -5, -6])"
            ],
            "text/html": [
              "<p style=\"text-align:center;\">$\\begin{pmatrix}-4\\\\ -5\\\\ -6\\end{pmatrix}$</p>"
            ],
            "image/png": "$\\begin{pmatrix}-4\\\\ -5\\\\ -6\\end{pmatrix}$",
            "text/latex": "$\\begin{pmatrix}-4\\\\ -5\\\\ -6\\end{pmatrix}$"
          },
          "metadata": {},
          "execution_count": 5
        }
      ]
    },
    {
      "cell_type": "code",
      "source": [
        "x = Vector ([0, 0, 0])\n",
        "x"
      ],
      "metadata": {
        "colab": {
          "base_uri": "https://localhost:8080/",
          "height": 46
        },
        "id": "0V25ep8Mr1E1",
        "outputId": "003bf989-02df-4b30-910d-c565de4ed1c0"
      },
      "execution_count": null,
      "outputs": [
        {
          "output_type": "execute_result",
          "data": {
            "text/plain": [
              "Vector([0, 0, 0])"
            ],
            "text/html": [
              "<p style=\"text-align:center;\">$\\begin{pmatrix}0\\\\ 0\\\\ 0\\end{pmatrix}$</p>"
            ],
            "image/png": "$\\begin{pmatrix}0\\\\ 0\\\\ 0\\end{pmatrix}$",
            "text/latex": "$\\begin{pmatrix}0\\\\ 0\\\\ 0\\end{pmatrix}$"
          },
          "metadata": {},
          "execution_count": 6
        }
      ]
    },
    {
      "cell_type": "code",
      "source": [
        "print(a+b)"
      ],
      "metadata": {
        "colab": {
          "base_uri": "https://localhost:8080/"
        },
        "id": "XsIIWXXrsELm",
        "outputId": "6c44a602-48b3-4136-ec31-e4177eda7d0c"
      },
      "execution_count": null,
      "outputs": [
        {
          "output_type": "stream",
          "name": "stdout",
          "text": [
            "Vector([0, 0, 0])\n"
          ]
        }
      ]
    },
    {
      "cell_type": "markdown",
      "source": [
        "*Problema 6*"
      ],
      "metadata": {
        "id": "LSCTYo7lsimD"
      }
    },
    {
      "cell_type": "markdown",
      "source": [
        "$(2+3)\n",
        "\\begin{pmatrix}\n",
        "1\\\\\n",
        "2\\\\\n",
        "3\\\\\n",
        "\\end{pmatrix}\n",
        "=\n",
        "2\n",
        "\\begin{pmatrix}\n",
        "1\\\\\n",
        "2\\\\\n",
        "3\\\\\n",
        "\\end{pmatrix}\n",
        "+\n",
        "3\n",
        "\\begin{pmatrix}\n",
        "1\\\\\n",
        "2\\\\\n",
        "3\\\\\n",
        "\\end{pmatrix}\n",
        "?\n",
        "$"
      ],
      "metadata": {
        "id": "ak0D7z5IsnyZ"
      }
    },
    {
      "cell_type": "code",
      "source": [
        "a = Vector ([1, 2, 3])\n",
        "a"
      ],
      "metadata": {
        "colab": {
          "base_uri": "https://localhost:8080/",
          "height": 46
        },
        "id": "qcyqJEs7sq-7",
        "outputId": "36092964-70fe-4bde-af6c-e871c4cbc835"
      },
      "execution_count": null,
      "outputs": [
        {
          "output_type": "execute_result",
          "data": {
            "text/plain": [
              "Vector([1, 2, 3])"
            ],
            "text/html": [
              "<p style=\"text-align:center;\">$\\begin{pmatrix}1\\\\ 2\\\\ 3\\end{pmatrix}$</p>"
            ],
            "image/png": "$\\begin{pmatrix}1\\\\ 2\\\\ 3\\end{pmatrix}$",
            "text/latex": "$\\begin{pmatrix}1\\\\ 2\\\\ 3\\end{pmatrix}$"
          },
          "metadata": {},
          "execution_count": 13
        }
      ]
    },
    {
      "cell_type": "code",
      "source": [
        "print((2+3)*(a))"
      ],
      "metadata": {
        "colab": {
          "base_uri": "https://localhost:8080/"
        },
        "id": "2uFYe_t6snUg",
        "outputId": "be607765-d796-48d8-a53d-a509eb340ae2"
      },
      "execution_count": null,
      "outputs": [
        {
          "output_type": "stream",
          "name": "stdout",
          "text": [
            "Vector([5, 10, 15])\n"
          ]
        }
      ]
    }
  ]
}