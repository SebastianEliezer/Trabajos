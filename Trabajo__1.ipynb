{
  "nbformat": 4,
  "nbformat_minor": 0,
  "metadata": {
    "colab": {
      "provenance": [],
      "toc_visible": true,
      "authorship_tag": "ABX9TyNK1iDbcjs7ifvqOAzVLOej",
      "include_colab_link": true
    },
    "kernelspec": {
      "name": "python3",
      "display_name": "Python 3"
    },
    "language_info": {
      "name": "python"
    }
  },
  "cells": [
    {
      "cell_type": "markdown",
      "metadata": {
        "id": "view-in-github",
        "colab_type": "text"
      },
      "source": [
        "<a href=\"https://colab.research.google.com/github/SebastianEliezer/Trabajos/blob/main/Trabajo__1.ipynb\" target=\"_parent\"><img src=\"https://colab.research.google.com/assets/colab-badge.svg\" alt=\"Open In Colab\"/></a>"
      ]
    },
    {
      "cell_type": "markdown",
      "source": [
        "# *Problema 1*"
      ],
      "metadata": {
        "id": "GdpEk_tkZH6D"
      }
    },
    {
      "cell_type": "code",
      "execution_count": null,
      "metadata": {
        "colab": {
          "base_uri": "https://localhost:8080/"
        },
        "id": "cgbslvLivwf9",
        "outputId": "22c6e6f2-9881-44f3-d208-86de7e371018"
      },
      "outputs": [
        {
          "output_type": "stream",
          "name": "stdout",
          "text": [
            "Requirement already satisfied: nacal in /usr/local/lib/python3.10/dist-packages (0.1.30)\n",
            "Requirement already satisfied: sympy>=1.1.0 in /usr/local/lib/python3.10/dist-packages (from nacal) (1.12)\n",
            "Requirement already satisfied: mpmath>=0.19 in /usr/local/lib/python3.10/dist-packages (from sympy>=1.1.0->nacal) (1.3.0)\n"
          ]
        }
      ],
      "source": [
        "!pip install --target=$nb_path nacal\n",
        "from nacal import *"
      ]
    },
    {
      "cell_type": "markdown",
      "source": [
        "\\begin{pmatrix}\n",
        "1\\\\\n",
        "2\\\\\n",
        "3\\\\\n",
        "\\end{pmatrix}\n",
        "+\n",
        "\\begin{pmatrix}\n",
        " 4\\\\\n",
        " 5\\\\\n",
        " 6\\\\\n",
        "\\end{pmatrix}\n",
        "=\n",
        "\\begin{pmatrix}\n",
        " 4\\\\\n",
        " 5\\\\\n",
        " 6\\\\\n",
        "\\end{pmatrix}\n",
        "+\n",
        "\\begin{pmatrix}\n",
        "1\\\\\n",
        "2\\\\\n",
        "3\\\\\n",
        "\\end{pmatrix}"
      ],
      "metadata": {
        "id": "NCFx_l-j6vPD"
      }
    },
    {
      "cell_type": "code",
      "source": [
        "a = Vector ([1, 2, 3])\n",
        "a"
      ],
      "metadata": {
        "colab": {
          "base_uri": "https://localhost:8080/",
          "height": 46
        },
        "id": "FG21_gERWrrG",
        "outputId": "994de6bc-0fe9-46e4-c89f-3e8d6d01379a"
      },
      "execution_count": null,
      "outputs": [
        {
          "output_type": "execute_result",
          "data": {
            "text/plain": [
              "Vector([1, 2, 3])"
            ],
            "text/html": [
              "<p style=\"text-align:center;\">$\\begin{pmatrix}1\\\\ 2\\\\ 3\\end{pmatrix}$</p>"
            ],
            "image/png": "$\\begin{pmatrix}1\\\\ 2\\\\ 3\\end{pmatrix}$",
            "text/latex": "$\\begin{pmatrix}1\\\\ 2\\\\ 3\\end{pmatrix}$"
          },
          "metadata": {},
          "execution_count": 7
        }
      ]
    },
    {
      "cell_type": "code",
      "source": [
        "b = Vector ([4, 5, 6])\n",
        "b"
      ],
      "metadata": {
        "colab": {
          "base_uri": "https://localhost:8080/",
          "height": 46
        },
        "id": "29uMHCqJXtPr",
        "outputId": "7f9345e5-49b1-4424-c066-2585c59d2e4a"
      },
      "execution_count": null,
      "outputs": [
        {
          "output_type": "execute_result",
          "data": {
            "text/plain": [
              "Vector([4, 5, 6])"
            ],
            "text/html": [
              "<p style=\"text-align:center;\">$\\begin{pmatrix}4\\\\ 5\\\\ 6\\end{pmatrix}$</p>"
            ],
            "image/png": "$\\begin{pmatrix}4\\\\ 5\\\\ 6\\end{pmatrix}$",
            "text/latex": "$\\begin{pmatrix}4\\\\ 5\\\\ 6\\end{pmatrix}$"
          },
          "metadata": {},
          "execution_count": 8
        }
      ]
    },
    {
      "cell_type": "code",
      "source": [
        "print(a+b)"
      ],
      "metadata": {
        "colab": {
          "base_uri": "https://localhost:8080/"
        },
        "id": "_1n3M-f6X9Jw",
        "outputId": "c0d6e8f7-171a-4f52-b6a8-a66c88e1ff16"
      },
      "execution_count": null,
      "outputs": [
        {
          "output_type": "stream",
          "name": "stdout",
          "text": [
            "Vector([5, 7, 9])\n"
          ]
        }
      ]
    },
    {
      "cell_type": "markdown",
      "source": [
        "# *Problema 2*"
      ],
      "metadata": {
        "id": "fgI7H6d6f-ta"
      }
    },
    {
      "cell_type": "code",
      "source": [
        "!pip install --target=$nb_path nacal\n",
        "from nacal import *"
      ],
      "metadata": {
        "colab": {
          "base_uri": "https://localhost:8080/"
        },
        "id": "JdxmpDrFgFJE",
        "outputId": "ea09bad6-81f7-41a3-88ac-e7a8886d5f9f"
      },
      "execution_count": null,
      "outputs": [
        {
          "output_type": "stream",
          "name": "stdout",
          "text": [
            "Requirement already satisfied: nacal in /usr/local/lib/python3.10/dist-packages (0.1.30)\n",
            "Requirement already satisfied: sympy>=1.1.0 in /usr/local/lib/python3.10/dist-packages (from nacal) (1.12)\n",
            "Requirement already satisfied: mpmath>=0.19 in /usr/local/lib/python3.10/dist-packages (from sympy>=1.1.0->nacal) (1.3.0)\n"
          ]
        }
      ]
    },
    {
      "cell_type": "markdown",
      "source": [
        "\\begin{pmatrix}\n",
        "1\\\\\n",
        "2\\\\\n",
        "\\end{pmatrix}\n",
        "+\n",
        "\\begin{pmatrix}\n",
        " 4\\\\\n",
        " 5\\\\\n",
        "\\end{pmatrix}\n",
        "+\n",
        "\\begin{pmatrix}\n",
        "1\\\\\n",
        "0\\\\\n",
        "\\end{pmatrix}"
      ],
      "metadata": {
        "id": "atNpOWjVgFlp"
      }
    },
    {
      "cell_type": "code",
      "source": [
        "a = Vector ([1, 2])\n",
        "a"
      ],
      "metadata": {
        "colab": {
          "base_uri": "https://localhost:8080/",
          "height": 46
        },
        "id": "jiK1kHNuhvEk",
        "outputId": "b6765693-9b26-4b8c-9c7e-7f76897b4d57"
      },
      "execution_count": null,
      "outputs": [
        {
          "output_type": "execute_result",
          "data": {
            "text/plain": [
              "Vector([1, 2])"
            ],
            "text/html": [
              "<p style=\"text-align:center;\">$\\begin{pmatrix}1\\\\ 2\\end{pmatrix}$</p>"
            ],
            "image/png": "$\\begin{pmatrix}1\\\\ 2\\end{pmatrix}$",
            "text/latex": "$\\begin{pmatrix}1\\\\ 2\\end{pmatrix}$"
          },
          "metadata": {},
          "execution_count": 23
        }
      ]
    },
    {
      "cell_type": "code",
      "source": [
        "x = Vector ([4, 5])\n",
        "x"
      ],
      "metadata": {
        "colab": {
          "base_uri": "https://localhost:8080/",
          "height": 46
        },
        "id": "50lsixMZh-3Y",
        "outputId": "a2b507f9-d23a-4304-c172-54de3b9340cd"
      },
      "execution_count": null,
      "outputs": [
        {
          "output_type": "execute_result",
          "data": {
            "text/plain": [
              "Vector([4, 5])"
            ],
            "text/html": [
              "<p style=\"text-align:center;\">$\\begin{pmatrix}4\\\\ 5\\end{pmatrix}$</p>"
            ],
            "image/png": "$\\begin{pmatrix}4\\\\ 5\\end{pmatrix}$",
            "text/latex": "$\\begin{pmatrix}4\\\\ 5\\end{pmatrix}$"
          },
          "metadata": {},
          "execution_count": 24
        }
      ]
    },
    {
      "cell_type": "code",
      "source": [
        "y = Vector ([1, 0])\n",
        "y"
      ],
      "metadata": {
        "colab": {
          "base_uri": "https://localhost:8080/",
          "height": 46
        },
        "id": "pc1s7tEuiApE",
        "outputId": "965d1468-3888-40f1-ef87-654306d25084"
      },
      "execution_count": null,
      "outputs": [
        {
          "output_type": "execute_result",
          "data": {
            "text/plain": [
              "Vector([1, 0])"
            ],
            "text/html": [
              "<p style=\"text-align:center;\">$\\begin{pmatrix}1\\\\ 0\\end{pmatrix}$</p>"
            ],
            "image/png": "$\\begin{pmatrix}1\\\\ 0\\end{pmatrix}$",
            "text/latex": "$\\begin{pmatrix}1\\\\ 0\\end{pmatrix}$"
          },
          "metadata": {},
          "execution_count": 25
        }
      ]
    },
    {
      "cell_type": "code",
      "source": [
        "print(a+(x+y))"
      ],
      "metadata": {
        "colab": {
          "base_uri": "https://localhost:8080/"
        },
        "id": "xlOQEtIwiM2k",
        "outputId": "c5a51d9b-1fa5-4600-f864-c76ee7a12713"
      },
      "execution_count": null,
      "outputs": [
        {
          "output_type": "stream",
          "name": "stdout",
          "text": [
            "Vector([6, 7])\n"
          ]
        }
      ]
    },
    {
      "cell_type": "markdown",
      "source": [
        "# *Problema 3*"
      ],
      "metadata": {
        "id": "cWoawZLUZ1Gu"
      }
    },
    {
      "cell_type": "code",
      "source": [
        "!pip install --target=$nb_path nacal\n",
        "from nacal import *"
      ],
      "metadata": {
        "colab": {
          "base_uri": "https://localhost:8080/"
        },
        "id": "gMojMolkbZzP",
        "outputId": "b81d1254-1676-49b7-9662-3fbe6d3c2845"
      },
      "execution_count": null,
      "outputs": [
        {
          "output_type": "stream",
          "name": "stdout",
          "text": [
            "Requirement already satisfied: nacal in /usr/local/lib/python3.10/dist-packages (0.1.30)\n",
            "Requirement already satisfied: sympy>=1.1.0 in /usr/local/lib/python3.10/dist-packages (from nacal) (1.12)\n",
            "Requirement already satisfied: mpmath>=0.19 in /usr/local/lib/python3.10/dist-packages (from sympy>=1.1.0->nacal) (1.3.0)\n"
          ]
        }
      ]
    },
    {
      "cell_type": "markdown",
      "source": [
        "\\begin{pmatrix}\n",
        "4\\\\\n",
        "5\\\\\n",
        "6\\\\\n",
        "\\end{pmatrix}\n",
        "+\n",
        "\\begin{pmatrix}\n",
        " 0\\\\\n",
        " 0\\\\\n",
        " 0\\\\\n",
        "\\end{pmatrix}"
      ],
      "metadata": {
        "id": "vYkZ_KT4alHL"
      }
    },
    {
      "cell_type": "code",
      "source": [
        "a = Vector ([4, 5, 6])\n",
        "a"
      ],
      "metadata": {
        "colab": {
          "base_uri": "https://localhost:8080/",
          "height": 46
        },
        "id": "u8qAzqnrais8",
        "outputId": "fca4fc0f-cdd8-4fdf-e4ba-95428166b533"
      },
      "execution_count": null,
      "outputs": [
        {
          "output_type": "execute_result",
          "data": {
            "text/plain": [
              "Vector([4, 5, 6])"
            ],
            "text/html": [
              "<p style=\"text-align:center;\">$\\begin{pmatrix}4\\\\ 5\\\\ 6\\end{pmatrix}$</p>"
            ],
            "image/png": "$\\begin{pmatrix}4\\\\ 5\\\\ 6\\end{pmatrix}$",
            "text/latex": "$\\begin{pmatrix}4\\\\ 5\\\\ 6\\end{pmatrix}$"
          },
          "metadata": {},
          "execution_count": 15
        }
      ]
    },
    {
      "cell_type": "code",
      "source": [
        "b = Vector ([0, 0, 0])\n",
        "b"
      ],
      "metadata": {
        "colab": {
          "base_uri": "https://localhost:8080/",
          "height": 46
        },
        "id": "DJLbPtCBcQyS",
        "outputId": "9ed9e443-4ac2-435c-f1a4-20d4418bdb01"
      },
      "execution_count": null,
      "outputs": [
        {
          "output_type": "execute_result",
          "data": {
            "text/plain": [
              "Vector([0, 0, 0])"
            ],
            "text/html": [
              "<p style=\"text-align:center;\">$\\begin{pmatrix}0\\\\ 0\\\\ 0\\end{pmatrix}$</p>"
            ],
            "image/png": "$\\begin{pmatrix}0\\\\ 0\\\\ 0\\end{pmatrix}$",
            "text/latex": "$\\begin{pmatrix}0\\\\ 0\\\\ 0\\end{pmatrix}$"
          },
          "metadata": {},
          "execution_count": 16
        }
      ]
    },
    {
      "cell_type": "code",
      "source": [
        "print(a+b)"
      ],
      "metadata": {
        "colab": {
          "base_uri": "https://localhost:8080/"
        },
        "id": "w0J-4w90dEv-",
        "outputId": "9636f5b1-1985-4e55-8cf6-ab1919ea553c"
      },
      "execution_count": null,
      "outputs": [
        {
          "output_type": "stream",
          "name": "stdout",
          "text": [
            "Vector([4, 5, 6])\n"
          ]
        }
      ]
    },
    {
      "cell_type": "markdown",
      "source": [
        "# *Problema 4*"
      ],
      "metadata": {
        "id": "SSYgGAyodJPe"
      }
    },
    {
      "cell_type": "code",
      "source": [
        "!pip install --target=$nb_path nacal\n",
        "from nacal import *"
      ],
      "metadata": {
        "id": "oF-P2AxGdbjU"
      },
      "execution_count": null,
      "outputs": []
    },
    {
      "cell_type": "markdown",
      "source": [
        "\\begin{pmatrix}\n",
        "4\\\\\n",
        "5\\\\\n",
        "6\\\\\n",
        "\\end{pmatrix}\n",
        "+\n",
        "\\begin{pmatrix}\n",
        " -4\\\\\n",
        " -5\\\\\n",
        " -6\\\\\n",
        "\\end{pmatrix}"
      ],
      "metadata": {
        "id": "ja2Ccqnndpjr"
      }
    },
    {
      "cell_type": "code",
      "source": [
        "a = Vector ([4, 5, 6])\n",
        "a"
      ],
      "metadata": {
        "colab": {
          "base_uri": "https://localhost:8080/",
          "height": 46
        },
        "id": "j_SXTxTqd6EH",
        "outputId": "f2fdee06-f5f9-43a9-fe94-e3433bab6400"
      },
      "execution_count": null,
      "outputs": [
        {
          "output_type": "execute_result",
          "data": {
            "text/plain": [
              "Vector([4, 5, 6])"
            ],
            "text/html": [
              "<p style=\"text-align:center;\">$\\begin{pmatrix}4\\\\ 5\\\\ 6\\end{pmatrix}$</p>"
            ],
            "image/png": "$\\begin{pmatrix}4\\\\ 5\\\\ 6\\end{pmatrix}$",
            "text/latex": "$\\begin{pmatrix}4\\\\ 5\\\\ 6\\end{pmatrix}$"
          },
          "metadata": {},
          "execution_count": 18
        }
      ]
    },
    {
      "cell_type": "code",
      "source": [
        "b = Vector ([-4, -5, -6])\n",
        "b"
      ],
      "metadata": {
        "colab": {
          "base_uri": "https://localhost:8080/",
          "height": 46
        },
        "id": "wXK1vcTRefmG",
        "outputId": "3cd20e8f-94eb-4572-919c-5370b351445d"
      },
      "execution_count": null,
      "outputs": [
        {
          "output_type": "execute_result",
          "data": {
            "text/plain": [
              "Vector([-4, -5, -6])"
            ],
            "text/html": [
              "<p style=\"text-align:center;\">$\\begin{pmatrix}-4\\\\ -5\\\\ -6\\end{pmatrix}$</p>"
            ],
            "image/png": "$\\begin{pmatrix}-4\\\\ -5\\\\ -6\\end{pmatrix}$",
            "text/latex": "$\\begin{pmatrix}-4\\\\ -5\\\\ -6\\end{pmatrix}$"
          },
          "metadata": {},
          "execution_count": 19
        }
      ]
    },
    {
      "cell_type": "code",
      "source": [
        "print(a+b)"
      ],
      "metadata": {
        "colab": {
          "base_uri": "https://localhost:8080/"
        },
        "id": "jqskoPQyemHW",
        "outputId": "a8651b0d-d288-40a1-9551-4e73645eb54f"
      },
      "execution_count": null,
      "outputs": [
        {
          "output_type": "stream",
          "name": "stdout",
          "text": [
            "Vector([0, 0, 0])\n"
          ]
        }
      ]
    },
    {
      "cell_type": "markdown",
      "source": [
        "# *Problema 5*"
      ],
      "metadata": {
        "id": "GkoFWZgom5YR"
      }
    },
    {
      "cell_type": "code",
      "source": [
        "!pip install --target=$nb_path nacal\n",
        "from nacal import *"
      ],
      "metadata": {
        "colab": {
          "base_uri": "https://localhost:8080/"
        },
        "id": "NlFT4KCMnBoX",
        "outputId": "12e413c9-4ebf-4130-f191-8d0fc1a69db4"
      },
      "execution_count": null,
      "outputs": [
        {
          "output_type": "stream",
          "name": "stdout",
          "text": [
            "Requirement already satisfied: nacal in /usr/local/lib/python3.10/dist-packages (0.1.30)\n",
            "Requirement already satisfied: sympy>=1.1.0 in /usr/local/lib/python3.10/dist-packages (from nacal) (1.12)\n",
            "Requirement already satisfied: mpmath>=0.19 in /usr/local/lib/python3.10/dist-packages (from sympy>=1.1.0->nacal) (1.3.0)\n"
          ]
        }
      ]
    },
    {
      "cell_type": "markdown",
      "source": [
        "\\begin{pmatrix}\n",
        "1\\\\\n",
        "-1\\\\\n",
        "\\end{pmatrix}\n",
        "+\n",
        "\\begin{pmatrix}\n",
        " 4\\\\\n",
        " 5\\\\\n",
        "\\end{pmatrix}"
      ],
      "metadata": {
        "id": "1rFp-l1hnB4p"
      }
    },
    {
      "cell_type": "code",
      "source": [
        "a = Vector ([1, -1])\n",
        "a"
      ],
      "metadata": {
        "colab": {
          "base_uri": "https://localhost:8080/",
          "height": 46
        },
        "id": "OZIDBLbBnCL8",
        "outputId": "19adb8b1-e43a-4a48-b1d2-d38c42763896"
      },
      "execution_count": null,
      "outputs": [
        {
          "output_type": "execute_result",
          "data": {
            "text/plain": [
              "Vector([1, -1])"
            ],
            "text/html": [
              "<p style=\"text-align:center;\">$\\begin{pmatrix}1\\\\ -1\\end{pmatrix}$</p>"
            ],
            "image/png": "$\\begin{pmatrix}1\\\\ -1\\end{pmatrix}$",
            "text/latex": "$\\begin{pmatrix}1\\\\ -1\\end{pmatrix}$"
          },
          "metadata": {},
          "execution_count": 28
        }
      ]
    },
    {
      "cell_type": "code",
      "source": [
        "b= Vector ([4, 5])\n",
        "b"
      ],
      "metadata": {
        "colab": {
          "base_uri": "https://localhost:8080/",
          "height": 46
        },
        "id": "LAnWOe1OnCUx",
        "outputId": "c0697077-f0ce-43b1-acc1-6320a9f22b94"
      },
      "execution_count": null,
      "outputs": [
        {
          "output_type": "execute_result",
          "data": {
            "text/plain": [
              "Vector([4, 5])"
            ],
            "text/html": [
              "<p style=\"text-align:center;\">$\\begin{pmatrix}4\\\\ 5\\end{pmatrix}$</p>"
            ],
            "image/png": "$\\begin{pmatrix}4\\\\ 5\\end{pmatrix}$",
            "text/latex": "$\\begin{pmatrix}4\\\\ 5\\end{pmatrix}$"
          },
          "metadata": {},
          "execution_count": 29
        }
      ]
    },
    {
      "cell_type": "code",
      "source": [
        "print(2*(a+b))"
      ],
      "metadata": {
        "colab": {
          "base_uri": "https://localhost:8080/"
        },
        "id": "xpW6K78AnCei",
        "outputId": "e8038bf1-f75f-42d6-84a0-5abcd2ec1425"
      },
      "execution_count": null,
      "outputs": [
        {
          "output_type": "stream",
          "name": "stdout",
          "text": [
            "Vector([10, 8])\n"
          ]
        }
      ]
    },
    {
      "cell_type": "markdown",
      "source": [
        "# *Problema 6*"
      ],
      "metadata": {
        "id": "8lbP1vqWoEDt"
      }
    },
    {
      "cell_type": "code",
      "source": [
        "!pip install --target=$nb_path nacal\n",
        "from nacal import *"
      ],
      "metadata": {
        "colab": {
          "base_uri": "https://localhost:8080/"
        },
        "id": "TqSBahwCoKaN",
        "outputId": "16cdd5f2-90f4-4736-f370-3782f9070b19"
      },
      "execution_count": null,
      "outputs": [
        {
          "output_type": "stream",
          "name": "stdout",
          "text": [
            "Requirement already satisfied: nacal in /usr/local/lib/python3.10/dist-packages (0.1.30)\n",
            "Requirement already satisfied: sympy>=1.1.0 in /usr/local/lib/python3.10/dist-packages (from nacal) (1.12)\n",
            "Requirement already satisfied: mpmath>=0.19 in /usr/local/lib/python3.10/dist-packages (from sympy>=1.1.0->nacal) (1.3.0)\n"
          ]
        }
      ]
    },
    {
      "cell_type": "markdown",
      "source": [
        "\\begin{pmatrix}\n",
        "1\\\\\n",
        "2\\\\\n",
        "3\\\\\n",
        "\\end{pmatrix}"
      ],
      "metadata": {
        "id": "f8b5mxjroKup"
      }
    },
    {
      "cell_type": "code",
      "source": [
        "a = Vector ([1, 2, 3])\n",
        "a"
      ],
      "metadata": {
        "colab": {
          "base_uri": "https://localhost:8080/",
          "height": 46
        },
        "id": "sfPWDOu0oK5n",
        "outputId": "92a2dea5-8b18-4073-8fda-cf05a212d2b3"
      },
      "execution_count": null,
      "outputs": [
        {
          "output_type": "execute_result",
          "data": {
            "text/plain": [
              "Vector([1, 2, 3])"
            ],
            "text/html": [
              "<p style=\"text-align:center;\">$\\begin{pmatrix}1\\\\ 2\\\\ 3\\end{pmatrix}$</p>"
            ],
            "image/png": "$\\begin{pmatrix}1\\\\ 2\\\\ 3\\end{pmatrix}$",
            "text/latex": "$\\begin{pmatrix}1\\\\ 2\\\\ 3\\end{pmatrix}$"
          },
          "metadata": {},
          "execution_count": 35
        }
      ]
    },
    {
      "cell_type": "code",
      "source": [
        "print((2+3)*(a))"
      ],
      "metadata": {
        "colab": {
          "base_uri": "https://localhost:8080/"
        },
        "id": "VRTR2EhHoLDo",
        "outputId": "56d3b278-d7d1-499e-83e3-47172a8bd476"
      },
      "execution_count": null,
      "outputs": [
        {
          "output_type": "stream",
          "name": "stdout",
          "text": [
            "Vector([5, 10, 15])\n"
          ]
        }
      ]
    },
    {
      "cell_type": "markdown",
      "source": [
        "# *Problema 7*"
      ],
      "metadata": {
        "id": "Mq3MluPWp-XM"
      }
    },
    {
      "cell_type": "code",
      "source": [
        "!pip install --target=$nb_path nacal\n",
        "from nacal import *"
      ],
      "metadata": {
        "colab": {
          "base_uri": "https://localhost:8080/"
        },
        "id": "V6iVOXs3qHYr",
        "outputId": "e183b9cb-b001-4496-f2f5-6a81eca908b1"
      },
      "execution_count": null,
      "outputs": [
        {
          "output_type": "stream",
          "name": "stdout",
          "text": [
            "Requirement already satisfied: nacal in /usr/local/lib/python3.10/dist-packages (0.1.30)\n",
            "Requirement already satisfied: sympy>=1.1.0 in /usr/local/lib/python3.10/dist-packages (from nacal) (1.12)\n",
            "Requirement already satisfied: mpmath>=0.19 in /usr/local/lib/python3.10/dist-packages (from sympy>=1.1.0->nacal) (1.3.0)\n"
          ]
        }
      ]
    },
    {
      "cell_type": "markdown",
      "source": [
        "\\begin{pmatrix}\n",
        "1\\\\\n",
        "2\\\\\n",
        "\\end{pmatrix}"
      ],
      "metadata": {
        "id": "IgeKtoZEqHlj"
      }
    },
    {
      "cell_type": "code",
      "source": [
        "a = Vector ([1, 2])"
      ],
      "metadata": {
        "id": "PnmuxpEbqHwX"
      },
      "execution_count": null,
      "outputs": []
    },
    {
      "cell_type": "code",
      "source": [
        "print((2*(3*(a))))"
      ],
      "metadata": {
        "colab": {
          "base_uri": "https://localhost:8080/"
        },
        "id": "CdykfCl4qH2l",
        "outputId": "e4dac296-4dd3-40c9-bf78-f24de72fa197"
      },
      "execution_count": null,
      "outputs": [
        {
          "output_type": "stream",
          "name": "stdout",
          "text": [
            "Vector([6, 12])\n"
          ]
        }
      ]
    },
    {
      "cell_type": "markdown",
      "source": [
        "# *Problema 8*"
      ],
      "metadata": {
        "id": "UKwrNaQ7recH"
      }
    },
    {
      "cell_type": "code",
      "source": [
        "!pip install --target=$nb_path nacal\n",
        "from nacal import *"
      ],
      "metadata": {
        "colab": {
          "base_uri": "https://localhost:8080/"
        },
        "id": "vDliwm_OrmbT",
        "outputId": "195dd5c2-fe8f-47f2-ad85-522895b52c3c"
      },
      "execution_count": null,
      "outputs": [
        {
          "output_type": "stream",
          "name": "stdout",
          "text": [
            "Requirement already satisfied: nacal in /usr/local/lib/python3.10/dist-packages (0.1.30)\n",
            "Requirement already satisfied: sympy>=1.1.0 in /usr/local/lib/python3.10/dist-packages (from nacal) (1.12)\n",
            "Requirement already satisfied: mpmath>=0.19 in /usr/local/lib/python3.10/dist-packages (from sympy>=1.1.0->nacal) (1.3.0)\n"
          ]
        }
      ]
    },
    {
      "cell_type": "markdown",
      "source": [
        "\\begin{pmatrix}\n",
        "1\\\\\n",
        "2\\\\\n",
        "3\\\\\n",
        "\\end{pmatrix}"
      ],
      "metadata": {
        "id": "wVhkVhAVrmq9"
      }
    },
    {
      "cell_type": "code",
      "source": [
        "a = 1"
      ],
      "metadata": {
        "id": "VCCBD67QsPrE"
      },
      "execution_count": null,
      "outputs": []
    },
    {
      "cell_type": "code",
      "source": [
        "x = Vector ([1, 2, 3])"
      ],
      "metadata": {
        "id": "pEA34C1erm0u"
      },
      "execution_count": null,
      "outputs": []
    },
    {
      "cell_type": "code",
      "source": [
        "print((a*(x)))"
      ],
      "metadata": {
        "colab": {
          "base_uri": "https://localhost:8080/"
        },
        "id": "wVUvUTFZrm9h",
        "outputId": "ab68fb79-60a9-42ac-a412-4a2313b3295b"
      },
      "execution_count": null,
      "outputs": [
        {
          "output_type": "stream",
          "name": "stdout",
          "text": [
            "Vector([1, 2, 3])\n"
          ]
        }
      ]
    }
  ]
}