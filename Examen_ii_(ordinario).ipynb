{
  "nbformat": 4,
  "nbformat_minor": 0,
  "metadata": {
    "colab": {
      "provenance": [],
      "include_colab_link": true
    },
    "kernelspec": {
      "name": "python3",
      "display_name": "Python 3"
    },
    "language_info": {
      "name": "python"
    }
  },
  "cells": [
    {
      "cell_type": "markdown",
      "metadata": {
        "id": "view-in-github",
        "colab_type": "text"
      },
      "source": [
        "<a href=\"https://colab.research.google.com/github/SebastianEliezer/Trabajos-de-Algebra-Lineal/blob/main/Examen_ii_(ordinario).ipynb\" target=\"_parent\"><img src=\"https://colab.research.google.com/assets/colab-badge.svg\" alt=\"Open In Colab\"/></a>"
      ]
    },
    {
      "cell_type": "code",
      "execution_count": null,
      "metadata": {
        "colab": {
          "base_uri": "https://localhost:8080/"
        },
        "id": "T9mcRMDLVpzh",
        "outputId": "ae00a862-0761-4af9-ec08-86c110812c2e"
      },
      "outputs": [
        {
          "output_type": "stream",
          "name": "stdout",
          "text": [
            "Requirement already satisfied: nacal in /usr/local/lib/python3.10/dist-packages (0.2.1)\n",
            "Requirement already satisfied: sympy>=1.1.0 in /usr/local/lib/python3.10/dist-packages (from nacal) (1.12.1)\n",
            "Requirement already satisfied: mpmath<1.4.0,>=1.1.0 in /usr/local/lib/python3.10/dist-packages (from sympy>=1.1.0->nacal) (1.3.0)\n"
          ]
        }
      ],
      "source": [
        "!pip install --target=$nb_path nacal\n",
        "from nacal import *"
      ]
    },
    {
      "cell_type": "markdown",
      "source": [
        "1. Para la siguiente matriz $$\\left[ \\begin{array}{cccc}3&-2&2&1\\\\1&-1&-1&-3\\\\2&1&2&4\\\\4&-4&1&2\\\\ \\end{array} \\right]$$ lleva a cabo el algoritmo de eliminación paso a paso.\n",
        "\n",
        "Escribe en una celda separada cada operacion elemental."
      ],
      "metadata": {
        "id": "hBXBxw0VcrAh"
      }
    },
    {
      "cell_type": "code",
      "source": [
        "# Definición de la matriz M\n",
        "\n",
        "x= Vector((3,1,2,4)); y=Vector((-2,-1,1,-4)); z= Vector((2,-1,2,1)); w=Vector((1,-3,4,2))\n",
        "M= Matrix([x,y,z,w])\n",
        "M"
      ],
      "metadata": {
        "colab": {
          "base_uri": "https://localhost:8080/",
          "height": 101
        },
        "id": "oj6Ff5aiQBN0",
        "outputId": "2cb150a9-2a5c-46db-a983-ec4522087b5c"
      },
      "execution_count": null,
      "outputs": [
        {
          "output_type": "execute_result",
          "data": {
            "text/plain": [
              "Matrix([Vector([3, 1, 2, 4]), Vector([-2, -1, 1, -4]), Vector([2, -1, 2, 1]), Vector([1, -3, 4, 2])])"
            ],
            "text/html": [
              "<p style=\"text-align:center;\">$\\left[ \\begin{array}{cccc}3&-2&2&1\\\\1&-1&-1&-3\\\\2&1&2&4\\\\4&-4&1&2\\\\ \\end{array} \\right]$</p>"
            ],
            "image/png": "$\\left[ \\begin{array}{cccc}3&-2&2&1\\\\1&-1&-1&-3\\\\2&1&2&4\\\\4&-4&1&2\\\\ \\end{array} \\right]$",
            "text/latex": "$\\left[ \\begin{array}{cccc}3&-2&2&1\\\\1&-1&-1&-3\\\\2&1&2&4\\\\4&-4&1&2\\\\ \\end{array} \\right]$"
          },
          "metadata": {},
          "execution_count": 125
        }
      ]
    },
    {
      "cell_type": "markdown",
      "source": [
        "$\\left[ \\begin{array}{cccc}3&-2&2&1\\\\1&-1&-1&-3\\\\2&1&2&4\\\\4&-4&1&2\\\\ \\end{array} \\right]$"
      ],
      "metadata": {
        "id": "Y1vYcClhrO9L"
      }
    },
    {
      "cell_type": "code",
      "source": [
        "# Operación de eliminación 1\n",
        "\n",
        "M&T[(3),2]\n",
        "M&T[(2),1+2]\n",
        "M&T[(3),3]\n",
        "M&T[(-2),1+3]\n",
        "M&T[(3),4]\n",
        "M&T[(-1),1+4]"
      ],
      "metadata": {
        "id": "vRjftnCqxAiK"
      },
      "execution_count": null,
      "outputs": []
    },
    {
      "cell_type": "markdown",
      "source": [
        "$\\left[ \\begin{array}{cccc}3&0&0&0\\\\1&-1&-5&-10\\\\2&7&2&10\\\\4&-4&-5&2\\\\ \\end{array} \\right]$"
      ],
      "metadata": {
        "id": "DA_KXDZ2sYgN"
      }
    },
    {
      "cell_type": "code",
      "source": [
        "# Operación de eliminación 2\n",
        "\n",
        "M&T[(-5),2+3]\n",
        "M&T[(-10),2+4]"
      ],
      "metadata": {
        "id": "M2xsW47KxU-M"
      },
      "execution_count": null,
      "outputs": []
    },
    {
      "cell_type": "markdown",
      "source": [
        "$\\left[ \\begin{array}{cccc}3&0&0&0\\\\1&-1 &0&0\\\\2&7&-33&-60\\\\4&-4&-15&42\\\\ \\end{array} \\right]$"
      ],
      "metadata": {
        "id": "SWNNrBZQuGfW"
      }
    },
    {
      "cell_type": "code",
      "source": [
        "# Operación de eliminación 3\n",
        "\n",
        "M&T[(11),4]\n",
        "M&T[(-20),3+4]"
      ],
      "metadata": {
        "id": "JJMGB5vRr_e8"
      },
      "execution_count": null,
      "outputs": []
    },
    {
      "cell_type": "markdown",
      "source": [
        "$\\left[ \\begin{array}{cccc}3&0&0&0\\\\1&-1&0&0\\\\2&7&-33&0\\\\4&-4&15&162\\\\ \\end{array} \\right]$"
      ],
      "metadata": {
        "id": "5gk9vdT-upSv"
      }
    },
    {
      "cell_type": "markdown",
      "source": [
        "2. Escriba las siguientes matrices elementales de orden 4.\n",
        "\n",
        "\n",
        "(a) I τ\n",
        "[(−7)1+3]\n",
        "\n",
        "(b) I τ\n",
        "[(1)1+4]\n",
        "\n",
        "(c) I τ\n",
        "[(3)2+1]\n",
        "\n",
        "(d) I τ\n",
        "[(−10)3]"
      ],
      "metadata": {
        "id": "2wXEkEH9hXGe"
      }
    },
    {
      "cell_type": "code",
      "source": [
        "# a\n",
        "M&T((-7,1+3))"
      ],
      "metadata": {
        "colab": {
          "base_uri": "https://localhost:8080/",
          "height": 46
        },
        "id": "9SN6Ce7TSbXg",
        "outputId": "1a1644fe-4434-4ba9-d762-170f7fe5ef0e"
      },
      "execution_count": null,
      "outputs": [
        {
          "output_type": "execute_result",
          "data": {
            "text/plain": [
              "Matrix([Vector([3, 1, 2, 4]), Vector([-2, -1, 1, -4]), Vector([2, -1, 2, 1]), Vector([-7, 21, -28, -14])])"
            ],
            "text/html": [
              "<p style=\"text-align:center;\">$\\left[ \\begin{array}{cccc}3&-2&2&-7\\\\1&-1&-1&21\\\\2&1&2&-28\\\\4&-4&1&-14\\\\ \\end{array} \\right]$</p>"
            ],
            "image/png": "$\\left[ \\begin{array}{cccc}3&-2&2&-7\\\\1&-1&-1&21\\\\2&1&2&-28\\\\4&-4&1&-14\\\\ \\end{array} \\right]$",
            "text/latex": "$\\left[ \\begin{array}{cccc}3&-2&2&-7\\\\1&-1&-1&21\\\\2&1&2&-28\\\\4&-4&1&-14\\\\ \\end{array} \\right]$"
          },
          "metadata": {},
          "execution_count": 73
        }
      ]
    },
    {
      "cell_type": "markdown",
      "source": [
        "$\\left[ \\begin{array}{cccc}3&-2&2&-7\\\\1&-1&-1&21\\\\2&1&2&-28\\\\4&-4&1&-14\\\\ \\end{array} \\right]$"
      ],
      "metadata": {
        "id": "YvYXcRFxhmOT"
      }
    },
    {
      "cell_type": "code",
      "source": [
        "# b\n",
        "M&T(((1),1+4))"
      ],
      "metadata": {
        "colab": {
          "base_uri": "https://localhost:8080/",
          "height": 46
        },
        "id": "fyc2Rq-xhtif",
        "outputId": "ee4b20de-4cda-47eb-dfa1-e0c02cbe5787"
      },
      "execution_count": null,
      "outputs": [
        {
          "output_type": "execute_result",
          "data": {
            "text/plain": [
              "Matrix([Vector([3, 1, 2, 4]), Vector([-2, -1, 1, -4]), Vector([2, -1, 2, 1]), Vector([-7, 21, -28, -14])])"
            ],
            "text/html": [
              "<p style=\"text-align:center;\">$\\left[ \\begin{array}{cccc}3&-2&2&-7\\\\1&-1&-1&21\\\\2&1&2&-28\\\\4&-4&1&-14\\\\ \\end{array} \\right]$</p>"
            ],
            "image/png": "$\\left[ \\begin{array}{cccc}3&-2&2&-7\\\\1&-1&-1&21\\\\2&1&2&-28\\\\4&-4&1&-14\\\\ \\end{array} \\right]$",
            "text/latex": "$\\left[ \\begin{array}{cccc}3&-2&2&-7\\\\1&-1&-1&21\\\\2&1&2&-28\\\\4&-4&1&-14\\\\ \\end{array} \\right]$"
          },
          "metadata": {},
          "execution_count": 74
        }
      ]
    },
    {
      "cell_type": "markdown",
      "source": [
        "$\\left[ \\begin{array}{cccc}3&-2&2&-7\\\\1&-1&-1&21\\\\2&1&2&-28\\\\4&-4&1&-14\\\\ \\end{array} \\right]$"
      ],
      "metadata": {
        "id": "o04w_1c0iCQ6"
      }
    },
    {
      "cell_type": "code",
      "source": [
        "# c\n",
        "M&T(((3),2+1))"
      ],
      "metadata": {
        "colab": {
          "base_uri": "https://localhost:8080/",
          "height": 46
        },
        "id": "NlMPZNluh3aV",
        "outputId": "7a77b33d-2cc2-44ac-caf2-99e9f950c803"
      },
      "execution_count": null,
      "outputs": [
        {
          "output_type": "execute_result",
          "data": {
            "text/plain": [
              "Matrix([Vector([3, 1, 2, 4]), Vector([-2, -1, 1, -4]), Vector([6, -3, 6, 3]), Vector([-7, 21, -28, -14])])"
            ],
            "text/html": [
              "<p style=\"text-align:center;\">$\\left[ \\begin{array}{cccc}3&-2&6&-7\\\\1&-1&-3&21\\\\2&1&6&-28\\\\4&-4&3&-14\\\\ \\end{array} \\right]$</p>"
            ],
            "image/png": "$\\left[ \\begin{array}{cccc}3&-2&6&-7\\\\1&-1&-3&21\\\\2&1&6&-28\\\\4&-4&3&-14\\\\ \\end{array} \\right]$",
            "text/latex": "$\\left[ \\begin{array}{cccc}3&-2&6&-7\\\\1&-1&-3&21\\\\2&1&6&-28\\\\4&-4&3&-14\\\\ \\end{array} \\right]$"
          },
          "metadata": {},
          "execution_count": 75
        }
      ]
    },
    {
      "cell_type": "markdown",
      "source": [
        "$\\left[ \\begin{array}{cccc}3&-2&6&-7\\\\1&-1&-3&21\\\\2&1&6&-28\\\\4&-4&3&-14\\\\ \\end{array} \\right]$"
      ],
      "metadata": {
        "id": "c7xx8VkRiJzE"
      }
    },
    {
      "cell_type": "code",
      "source": [
        "# d\n",
        "M&T(((-10),3))"
      ],
      "metadata": {
        "colab": {
          "base_uri": "https://localhost:8080/",
          "height": 46
        },
        "id": "B95bGcBxiMcT",
        "outputId": "3937e410-8937-4879-f80e-3c6ab9e9fd02"
      },
      "execution_count": null,
      "outputs": [
        {
          "output_type": "execute_result",
          "data": {
            "text/plain": [
              "Matrix([Vector([3, 1, 2, 4]), Vector([-2, -1, 1, -4]), Vector([-60, 30, -60, -30]), Vector([-7, 21, -28, -14])])"
            ],
            "text/html": [
              "<p style=\"text-align:center;\">$\\left[ \\begin{array}{cccc}3&-2&-60&-7\\\\1&-1&30&21\\\\2&1&-60&-28\\\\4&-4&-30&-14\\\\ \\end{array} \\right]$</p>"
            ],
            "image/png": "$\\left[ \\begin{array}{cccc}3&-2&-60&-7\\\\1&-1&30&21\\\\2&1&-60&-28\\\\4&-4&-30&-14\\\\ \\end{array} \\right]$",
            "text/latex": "$\\left[ \\begin{array}{cccc}3&-2&-60&-7\\\\1&-1&30&21\\\\2&1&-60&-28\\\\4&-4&-30&-14\\\\ \\end{array} \\right]$"
          },
          "metadata": {},
          "execution_count": 76
        }
      ]
    },
    {
      "cell_type": "markdown",
      "source": [
        "$\\left[ \\begin{array}{cccc}3&-2&-60&-7\\\\1&-1&30&21\\\\2&1&-60&-28\\\\4&-4&-30&-14\\\\ \\end{array} \\right]$"
      ],
      "metadata": {
        "id": "Jg20xLVUiTbi"
      }
    },
    {
      "cell_type": "markdown",
      "source": [
        "3. Sea la matriz A = $\\left[ \\begin{array}{cccc}1&1&1&1\\\\0&1&1&1\\\\1&2&3&4\\\\4&-4&1&2\\\\ \\end{array} \\right]$\n",
        ", exprese las siguientes transformaciones elementales de\n",
        "\n",
        "A como productos de A por matrices elementales y escriba el resultado:\n",
        "\n",
        "(a) Multiplicar la primera columna por 3. (b) Restar la primera columna de la segunda."
      ],
      "metadata": {
        "id": "pwJzrogtFnkN"
      }
    },
    {
      "cell_type": "code",
      "source": [
        "# Definición de la matriz A\n",
        "\n",
        "v= Vector((1,0,1,4)); b=Vector((1,1,2,-4)); n= Vector((1,1,3,1)); m=Vector((1,1,4,2))\n",
        "A= Matrix ([v,b,n,m])\n",
        "print(A)\n",
        "A"
      ],
      "metadata": {
        "colab": {
          "base_uri": "https://localhost:8080/",
          "height": 116
        },
        "id": "tB3J3QUKTD8t",
        "outputId": "c124ade0-1d21-4407-b62a-37239c7d74d7"
      },
      "execution_count": null,
      "outputs": [
        {
          "output_type": "stream",
          "name": "stdout",
          "text": [
            "| 1  1  1  1|\n",
            "| 0  1  1  1|\n",
            "| 1  2  3  4|\n",
            "| 4 -4  1  2|\n"
          ]
        },
        {
          "output_type": "execute_result",
          "data": {
            "text/plain": [
              "Matrix([Vector([1, 0, 1, 4]), Vector([1, 1, 2, -4]), Vector([1, 1, 3, 1]), Vector([1, 1, 4, 2])])"
            ],
            "text/html": [
              "<p style=\"text-align:center;\">$\\left[ \\begin{array}{cccc}1&1&1&1\\\\0&1&1&1\\\\1&2&3&4\\\\4&-4&1&2\\\\ \\end{array} \\right]$</p>"
            ],
            "image/png": "$\\left[ \\begin{array}{cccc}1&1&1&1\\\\0&1&1&1\\\\1&2&3&4\\\\4&-4&1&2\\\\ \\end{array} \\right]$",
            "text/latex": "$\\left[ \\begin{array}{cccc}1&1&1&1\\\\0&1&1&1\\\\1&2&3&4\\\\4&-4&1&2\\\\ \\end{array} \\right]$"
          },
          "metadata": {},
          "execution_count": 94
        }
      ]
    },
    {
      "cell_type": "code",
      "source": [
        "# a)\n",
        "print((A|1)*3)"
      ],
      "metadata": {
        "colab": {
          "base_uri": "https://localhost:8080/"
        },
        "id": "oWS3FlnJVX0k",
        "outputId": "12b1f0dc-bb7a-447f-c54a-2f633b0e0cdf"
      },
      "execution_count": null,
      "outputs": [
        {
          "output_type": "stream",
          "name": "stdout",
          "text": [
            "(3, 0, 3, 12,)\n"
          ]
        }
      ]
    },
    {
      "cell_type": "markdown",
      "source": [
        "$\\left[ \\begin{array}{cccc}3&1&1&1\\\\0&1&1&1\\\\3&2&3&4\\\\12&-4&1&2\\\\ \\end{array} \\right]$"
      ],
      "metadata": {
        "id": "2GwKrGcrlMrr"
      }
    },
    {
      "cell_type": "code",
      "source": [
        "# b)\n",
        "print(((A|1)*3)-(A|2))"
      ],
      "metadata": {
        "id": "MsXws45RVlhO",
        "colab": {
          "base_uri": "https://localhost:8080/"
        },
        "outputId": "2041cf8f-176e-449c-8c6f-93df32c62346"
      },
      "execution_count": null,
      "outputs": [
        {
          "output_type": "stream",
          "name": "stdout",
          "text": [
            "(2, -1, 1, 16,)\n"
          ]
        }
      ]
    },
    {
      "cell_type": "markdown",
      "source": [
        "$\\left[ \\begin{array}{cccc}3&1&1&1\\\\0&1&1&1\\\\3&2&3&4\\\\12&-4&1&2\\\\ \\end{array} \\right]$"
      ],
      "metadata": {
        "id": "rMzjuH9vmewK"
      }
    },
    {
      "cell_type": "markdown",
      "source": [
        "4. Realiza el algoritmo de eliminación de Gauss-Jordan para la matriz del ejercicio 1, es decir continua las modificaciones de la matriz mediante operaciones elementales.\n",
        "Por cada paso del algoritmo escribe la celda de código correspondiente."
      ],
      "metadata": {
        "id": "NRMqK0VmB6px"
      }
    },
    {
      "cell_type": "code",
      "source": [
        "# Definición de la matriz M\n",
        "\n",
        "x= Vector((3,1,2,4)); y=Vector((-2,-1,1,-4)); z= Vector((2,-1,2,1)); w=Vector((1,-3,4,2))\n",
        "M= Matrix([x,y,z,w])\n",
        "M"
      ],
      "metadata": {
        "colab": {
          "base_uri": "https://localhost:8080/",
          "height": 101
        },
        "id": "iRQYAd56uzWe",
        "outputId": "3b0c21b1-c407-436e-b469-28f631c5d2e3"
      },
      "execution_count": null,
      "outputs": [
        {
          "output_type": "execute_result",
          "data": {
            "text/plain": [
              "Matrix([Vector([3, 1, 2, 4]), Vector([-2, -1, 1, -4]), Vector([2, -1, 2, 1]), Vector([1, -3, 4, 2])])"
            ],
            "text/html": [
              "<p style=\"text-align:center;\">$\\left[ \\begin{array}{cccc}3&-2&2&1\\\\1&-1&-1&-3\\\\2&1&2&4\\\\4&-4&1&2\\\\ \\end{array} \\right]$</p>"
            ],
            "image/png": "$\\left[ \\begin{array}{cccc}3&-2&2&1\\\\1&-1&-1&-3\\\\2&1&2&4\\\\4&-4&1&2\\\\ \\end{array} \\right]$",
            "text/latex": "$\\left[ \\begin{array}{cccc}3&-2&2&1\\\\1&-1&-1&-3\\\\2&1&2&4\\\\4&-4&1&2\\\\ \\end{array} \\right]$"
          },
          "metadata": {},
          "execution_count": 128
        }
      ]
    },
    {
      "cell_type": "markdown",
      "source": [
        "M=$\\left[ \\begin{array}{cccc}3&-2&2&1\\\\1&-1&-1&-3\\\\2&1&2&4\\\\4&-4&1&2\\\\ \\end{array} \\right]$"
      ],
      "metadata": {
        "id": "98PBPjpSR2D-"
      }
    },
    {
      "cell_type": "code",
      "source": [
        "# Operación 1 (parte 1)\n",
        "\n",
        "M&T[(3),2]\n",
        "M&T[(2),1+2]\n",
        "M&T[(3),3]\n",
        "M&T[(-2),1+3]\n",
        "M&T[(3),4]\n",
        "M&T[(-1),1+4]"
      ],
      "metadata": {
        "id": "1UVPTbK5Qe5C"
      },
      "execution_count": 128,
      "outputs": []
    },
    {
      "cell_type": "markdown",
      "source": [
        "M=$\\left[ \\begin{array}{cccc}3&0&0&0\\\\1&-1&-5&-10\\\\2&7&2&10\\\\4&-4&-5&2\\\\ \\end{array} \\right]$"
      ],
      "metadata": {
        "id": "PvySCk5pehyN"
      }
    },
    {
      "cell_type": "code",
      "source": [
        "# Operación 2 (parte 1)\n",
        "\n",
        "M&T[(1),2+1]\n",
        "M&T[(-5),2+3]\n",
        "M&T[(-10),2+4]"
      ],
      "metadata": {
        "id": "WJeGrPljRIE0"
      },
      "execution_count": 128,
      "outputs": []
    },
    {
      "cell_type": "markdown",
      "source": [
        "M=$\\left[ \\begin{array}{cccc}3&0&0&0\\\\0&-1&0&0\\\\9&7&-33&-60\\\\0&-4&15&42\\\\ \\end{array} \\right]$"
      ],
      "metadata": {
        "id": "BasP9KYhfPmU"
      }
    },
    {
      "cell_type": "code",
      "source": [
        "# Operación 3 (parte 1)\n",
        "\n",
        "M&T[(11),1]\n",
        "M&T[(3),3+1]\n",
        "M&T[(33),2]\n",
        "M&T[(7),3+2]\n",
        "M&T[(11),4]\n",
        "M&T[(-20),3+4]"
      ],
      "metadata": {
        "id": "FUp_e09WRX3S"
      },
      "execution_count": null,
      "outputs": []
    },
    {
      "cell_type": "markdown",
      "source": [
        "M=$\\left[ \\begin{array}{cccc}33&0&0&0\\\\0&-33&0&0\\\\0&0&-33&0\\\\45&-27&15&162\\\\ \\end{array} \\right]$"
      ],
      "metadata": {
        "id": "GlsxotN1frvc"
      }
    },
    {
      "cell_type": "code",
      "source": [
        "# Operación 4 (parte 2)\n",
        "\n",
        "M&T[(18),1]\n",
        "M&T[(-5),4+1]\n",
        "M&T[(6),2]\n",
        "M&T[(1),4+2]\n",
        "M&T[(54),3]\n",
        "M&T[(-5),4+3]"
      ],
      "metadata": {
        "id": "cY2laeSHaTaq"
      },
      "execution_count": null,
      "outputs": []
    },
    {
      "cell_type": "markdown",
      "source": [
        "M=M=$\\left[ \\begin{array}{cccc}594&0&0&0\\\\0&-198&0&0\\\\0&0&-1782&0\\\\0&0&0&1622\\\\ \\end{array} \\right]$"
      ],
      "metadata": {
        "id": "3PDu6IbNgOc6"
      }
    },
    {
      "cell_type": "code",
      "source": [
        "# Operación 5 (parte 2)\n",
        "\n",
        "M&T[(1/594),1]\n",
        "M&T[(-1/198),2]\n",
        "M&T[(-1/1782),3]\n",
        "M&T[(1/162)4]"
      ],
      "metadata": {
        "id": "fIixyDafc1BC"
      },
      "execution_count": null,
      "outputs": []
    },
    {
      "cell_type": "markdown",
      "source": [
        "$\\left[ \\begin{array}{cccc}1&0&0&0\\\\0&1&0&0\\\\0&0&1&0\\\\0&0&0&1\\\\ \\end{array} \\right]$"
      ],
      "metadata": {
        "id": "zwk215fDhJ3e"
      }
    },
    {
      "cell_type": "markdown",
      "source": [
        "5. Compara tus resultados del ejercicio 1 con el metodo Elim()"
      ],
      "metadata": {
        "id": "C-GfuE9_Cw_H"
      }
    },
    {
      "cell_type": "markdown",
      "source": [
        "Con el método de eliminación por operaciones elementales, se elimina la parte superior de la diagonal de la matriz convirtiendo los elementos de arriba de la diagonal en ceros y siendo este al mismo tiempo la mitad de la operación para el método de eliminación de Gauss-Jordan."
      ],
      "metadata": {
        "id": "LcupRP13u6uD"
      }
    },
    {
      "cell_type": "markdown",
      "source": [
        " 6. Compara tus resultados del ejercicio 4 con el metodo ElimGJ()"
      ],
      "metadata": {
        "id": "LQ2qXfhaIRis"
      }
    },
    {
      "cell_type": "code",
      "source": [
        "En ambos casos la matriz contiene en su diagonal los elementos 1, mientras que en la parte superior e inferior de la diagonal de la matriz quedan los elementos restantes en ceros."
      ],
      "metadata": {
        "id": "etEXLlfvvYiQ"
      },
      "execution_count": null,
      "outputs": []
    },
    {
      "cell_type": "markdown",
      "source": [
        "7. Encuentra la inversa de la matriz del ejercicio 1."
      ],
      "metadata": {
        "id": "2F3XtwbpIhOO"
      }
    },
    {
      "cell_type": "code",
      "source": [
        "# Definición de la matriz M\n",
        "\n",
        "x= Vector((3,1,2,4)); y=Vector((-2,-1,1,-4)); z= Vector((2,-1,2,1)); w=Vector((1,-3,4,2))\n",
        "M= Matrix([x,y,z,w])\n",
        "M"
      ],
      "metadata": {
        "colab": {
          "base_uri": "https://localhost:8080/",
          "height": 46
        },
        "id": "JzS9lZ1Qm8Sz",
        "outputId": "0a9a109e-4365-4b8f-fee4-12d3a665ef7b"
      },
      "execution_count": null,
      "outputs": [
        {
          "output_type": "execute_result",
          "data": {
            "text/plain": [
              "Matrix([Vector([3, 1, 2, 4]), Vector([-2, -1, 1, -4]), Vector([2, -1, 2, 1]), Vector([1, -3, 4, 2])])"
            ],
            "text/html": [
              "<p style=\"text-align:center;\">$\\left[ \\begin{array}{cccc}3&-2&2&1\\\\1&-1&-1&-3\\\\2&1&2&4\\\\4&-4&1&2\\\\ \\end{array} \\right]$</p>"
            ],
            "image/png": "$\\left[ \\begin{array}{cccc}3&-2&2&1\\\\1&-1&-1&-3\\\\2&1&2&4\\\\4&-4&1&2\\\\ \\end{array} \\right]$",
            "text/latex": "$\\left[ \\begin{array}{cccc}3&-2&2&1\\\\1&-1&-1&-3\\\\2&1&2&4\\\\4&-4&1&2\\\\ \\end{array} \\right]$"
          },
          "metadata": {},
          "execution_count": 108
        }
      ]
    },
    {
      "cell_type": "markdown",
      "source": [
        "M=$\\left[ \\begin{array}{cccc}3&-2&2&1\\\\1&-1&-1&-3\\\\2&1&2&4\\\\4&-4&1&2\\\\ \\end{array} \\right]$"
      ],
      "metadata": {
        "id": "5DPB9-VJnAjz"
      }
    },
    {
      "cell_type": "code",
      "source": [
        "# Inversa de la matriz M\n",
        "print(M*-1)"
      ],
      "metadata": {
        "colab": {
          "base_uri": "https://localhost:8080/",
          "height": 116
        },
        "id": "R1TvYaBLnDxc",
        "outputId": "0f60384a-9790-4c24-cd02-8a294f9acb17"
      },
      "execution_count": null,
      "outputs": [
        {
          "output_type": "stream",
          "name": "stdout",
          "text": [
            "|-3  2 -2 -1|\n",
            "|-1  1  1  3|\n",
            "|-2 -1 -2 -4|\n",
            "|-4  4 -1 -2|\n"
          ]
        },
        {
          "output_type": "execute_result",
          "data": {
            "text/plain": [
              "Matrix([Vector([-3, -1, -2, -4]), Vector([2, 1, -1, 4]), Vector([-2, 1, -2, -1]), Vector([-1, 3, -4, -2])])"
            ],
            "text/html": [
              "<p style=\"text-align:center;\">$\\left[ \\begin{array}{cccc}-3&2&-2&-1\\\\-1&1&1&3\\\\-2&-1&-2&-4\\\\-4&4&-1&-2\\\\ \\end{array} \\right]$</p>"
            ],
            "image/png": "$\\left[ \\begin{array}{cccc}-3&2&-2&-1\\\\-1&1&1&3\\\\-2&-1&-2&-4\\\\-4&4&-1&-2\\\\ \\end{array} \\right]$",
            "text/latex": "$\\left[ \\begin{array}{cccc}-3&2&-2&-1\\\\-1&1&1&3\\\\-2&-1&-2&-4\\\\-4&4&-1&-2\\\\ \\end{array} \\right]$"
          },
          "metadata": {},
          "execution_count": 106
        }
      ]
    },
    {
      "cell_type": "markdown",
      "source": [
        "M^-1=$\\left[ \\begin{array}{cccc}-3&2&-2&-1\\\\-1&1&1&3\\\\-2&-1&-2&-4\\\\-4&4&-1&-2\\\\ \\end{array} \\right]$"
      ],
      "metadata": {
        "id": "ocn4C9Y6ne-U"
      }
    },
    {
      "cell_type": "markdown",
      "source": [
        "8. Resuelva el siguiente sistema de ecuaciones:\n",
        "\n",
        "$$ \\begin{array}{ccc}5x&+7y&-z&=6\\\\2x&+10y&-2z&=4\\\\x&+y&+z&=0\\\\ \\end{array} $$"
      ],
      "metadata": {
        "id": "tABrI61xarPE"
      }
    },
    {
      "cell_type": "code",
      "source": [
        "# Definición de la matriz en base a la siguiente ecuación\n",
        "\n",
        "x= Vector((5,2,1)); y=Vector((7,10,1)); z= Vector((-1,-2,1)); w=Vector((6,4,0))\n",
        "M= Matrix([x,y,z,w])\n",
        "M"
      ],
      "metadata": {
        "colab": {
          "base_uri": "https://localhost:8080/",
          "height": 46
        },
        "id": "DWrZ6Da-XVvt",
        "outputId": "450706d7-bb5a-480c-b764-72bff5018682"
      },
      "execution_count": null,
      "outputs": [
        {
          "output_type": "execute_result",
          "data": {
            "text/plain": [
              "Matrix([Vector([5, 2, 1]), Vector([7, 10, 1]), Vector([-1, -2, 1]), Vector([6, 4, 0])])"
            ],
            "text/html": [
              "<p style=\"text-align:center;\">$\\left[ \\begin{array}{cccc}5&7&-1&6\\\\2&10&-2&4\\\\1&1&1&0\\\\ \\end{array} \\right]$</p>"
            ],
            "image/png": "$\\left[ \\begin{array}{cccc}5&7&-1&6\\\\2&10&-2&4\\\\1&1&1&0\\\\ \\end{array} \\right]$",
            "text/latex": "$\\left[ \\begin{array}{cccc}5&7&-1&6\\\\2&10&-2&4\\\\1&1&1&0\\\\ \\end{array} \\right]$"
          },
          "metadata": {},
          "execution_count": 100
        }
      ]
    },
    {
      "cell_type": "markdown",
      "source": [
        "E=$\\left[ \\begin{array}{cccc}5&7&-1&6\\\\2&10&-2&4\\\\1&1&1&0\\\\ \\end{array} \\right]$"
      ],
      "metadata": {
        "id": "lNyErbwEYtNQ"
      }
    },
    {
      "cell_type": "code",
      "source": [],
      "metadata": {
        "id": "u6IR7eN2Y9JR"
      },
      "execution_count": null,
      "outputs": []
    }
  ]
}