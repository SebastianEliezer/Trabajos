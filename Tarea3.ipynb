{
  "nbformat": 4,
  "nbformat_minor": 0,
  "metadata": {
    "colab": {
      "provenance": [],
      "authorship_tag": "ABX9TyOKSgQ2IeT9Lh4pIEalBhys",
      "include_colab_link": true
    },
    "kernelspec": {
      "name": "python3",
      "display_name": "Python 3"
    },
    "language_info": {
      "name": "python"
    }
  },
  "cells": [
    {
      "cell_type": "markdown",
      "metadata": {
        "id": "view-in-github",
        "colab_type": "text"
      },
      "source": [
        "<a href=\"https://colab.research.google.com/github/SebastianEliezer/Trabajos/blob/main/Tarea3.ipynb\" target=\"_parent\"><img src=\"https://colab.research.google.com/assets/colab-badge.svg\" alt=\"Open In Colab\"/></a>"
      ]
    },
    {
      "cell_type": "markdown",
      "source": [
        "# *Tarea 3*"
      ],
      "metadata": {
        "id": "5YJ_bABfWODo"
      }
    },
    {
      "cell_type": "markdown",
      "source": [
        "*Matriz 1*"
      ],
      "metadata": {
        "id": "h8nUIjH6WSWH"
      }
    },
    {
      "cell_type": "code",
      "execution_count": null,
      "metadata": {
        "id": "QuBiA-3LSQU1",
        "colab": {
          "base_uri": "https://localhost:8080/"
        },
        "outputId": "e58bca83-1c09-47be-a262-b746c9da0570"
      },
      "outputs": [
        {
          "output_type": "stream",
          "name": "stdout",
          "text": [
            "Collecting nacal\n",
            "  Downloading nacal-0.1.30-py3-none-any.whl (33 kB)\n",
            "Requirement already satisfied: sympy>=1.1.0 in /usr/local/lib/python3.10/dist-packages (from nacal) (1.12)\n",
            "Requirement already satisfied: mpmath>=0.19 in /usr/local/lib/python3.10/dist-packages (from sympy>=1.1.0->nacal) (1.3.0)\n",
            "Installing collected packages: nacal\n",
            "Successfully installed nacal-0.1.30\n"
          ]
        }
      ],
      "source": [
        "!pip install --target=$nb_path nacal\n",
        "from nacal import *"
      ]
    },
    {
      "cell_type": "code",
      "source": [
        "c = Vector ([1,2,3])\n",
        "d = Vector ([4,5,6])\n",
        "e = Vector ([7,8,9])\n",
        "A = Matrix ([c,d,e])\n",
        "print(A)\n",
        "A"
      ],
      "metadata": {
        "colab": {
          "base_uri": "https://localhost:8080/",
          "height": 101
        },
        "id": "Jn9ALyvVVtp_",
        "outputId": "ab52b607-c3e8-4c58-91f7-42215f823e2f"
      },
      "execution_count": null,
      "outputs": [
        {
          "output_type": "stream",
          "name": "stdout",
          "text": [
            "Matrix([Vector([1, 2, 3]), Vector([4, 5, 6]), Vector([7, 8, 9])])\n"
          ]
        },
        {
          "output_type": "execute_result",
          "data": {
            "text/plain": [
              "Matrix([Vector([1, 2, 3]), Vector([4, 5, 6]), Vector([7, 8, 9])])"
            ],
            "text/html": [
              "<p style=\"text-align:center;\">$\\left[ \\begin{array}{ccc}1&4&7\\\\2&5&8\\\\3&6&9\\\\ \\end{array} \\right]$</p>"
            ],
            "image/png": "$\\left[ \\begin{array}{ccc}1&4&7\\\\2&5&8\\\\3&6&9\\\\ \\end{array} \\right]$",
            "text/latex": "$\\left[ \\begin{array}{ccc}1&4&7\\\\2&5&8\\\\3&6&9\\\\ \\end{array} \\right]$"
          },
          "metadata": {},
          "execution_count": 2
        }
      ]
    },
    {
      "cell_type": "markdown",
      "source": [
        "$\\left[ \\begin{array}{ccc}1&4&7\\\\2&5&8\\\\3&6&9\\\\ \\end{array} \\right]$"
      ],
      "metadata": {
        "id": "zS3oFcIXY-Kg"
      }
    },
    {
      "cell_type": "markdown",
      "source": [
        "*Matriz 2*"
      ],
      "metadata": {
        "id": "gKa9Va6HWU-d"
      }
    },
    {
      "cell_type": "code",
      "source": [
        "f = Vector ([10,11,12])\n",
        "g = Vector ([13,14,15])\n",
        "h = Vector ([16,17,18])\n",
        "B = Matrix ([f,g,h])\n",
        "print(B)\n",
        "B"
      ],
      "metadata": {
        "colab": {
          "base_uri": "https://localhost:8080/",
          "height": 118
        },
        "id": "re3HHugVWfbu",
        "outputId": "2dbb9292-c7b6-41be-ab39-f9057f4b83af"
      },
      "execution_count": null,
      "outputs": [
        {
          "output_type": "stream",
          "name": "stdout",
          "text": [
            "Matrix([Vector([10, 11, 12]), Vector([13, 14, 15]), Vector([16, 17, 18])])\n"
          ]
        },
        {
          "output_type": "execute_result",
          "data": {
            "text/plain": [
              "Matrix([Vector([10, 11, 12]), Vector([13, 14, 15]), Vector([16, 17, 18])])"
            ],
            "text/html": [
              "<p style=\"text-align:center;\">$\\left[ \\begin{array}{ccc}10&13&16\\\\11&14&17\\\\12&15&18\\\\ \\end{array} \\right]$</p>"
            ],
            "image/png": "$\\left[ \\begin{array}{ccc}10&13&16\\\\11&14&17\\\\12&15&18\\\\ \\end{array} \\right]$",
            "text/latex": "$\\left[ \\begin{array}{ccc}10&13&16\\\\11&14&17\\\\12&15&18\\\\ \\end{array} \\right]$"
          },
          "metadata": {},
          "execution_count": 5
        }
      ]
    },
    {
      "cell_type": "markdown",
      "source": [
        "$\\left[ \\begin{array}{ccc}10&13&16\\\\11&14&17\\\\12&15&18\\\\ \\end{array} \\right]$"
      ],
      "metadata": {
        "id": "fz6WgDq0Y7W9"
      }
    },
    {
      "cell_type": "markdown",
      "source": [
        "*Vectores*"
      ],
      "metadata": {
        "id": "ofrtLuS4XZxw"
      }
    },
    {
      "cell_type": "code",
      "source": [
        "b = Vector ([19,20,21])\n",
        "c = Vector ([22,23,24])\n",
        "c"
      ],
      "metadata": {
        "colab": {
          "base_uri": "https://localhost:8080/",
          "height": 46
        },
        "id": "0Oe0C1D0XdVL",
        "outputId": "382341e5-def5-47fa-cd8c-c1007050a585"
      },
      "execution_count": null,
      "outputs": [
        {
          "output_type": "execute_result",
          "data": {
            "text/plain": [
              "Vector([22, 23, 24])"
            ],
            "text/html": [
              "<p style=\"text-align:center;\">$\\begin{pmatrix}22\\\\ 23\\\\ 24\\end{pmatrix}$</p>"
            ],
            "image/png": "$\\begin{pmatrix}22\\\\ 23\\\\ 24\\end{pmatrix}$",
            "text/latex": "$\\begin{pmatrix}22\\\\ 23\\\\ 24\\end{pmatrix}$"
          },
          "metadata": {},
          "execution_count": 9
        }
      ]
    },
    {
      "cell_type": "markdown",
      "source": [
        "$\\begin{pmatrix}22\\\\ 23\\\\ 24\\end{pmatrix}$"
      ],
      "metadata": {
        "id": "qPo0fe5QY4RQ"
      }
    },
    {
      "cell_type": "markdown",
      "source": [
        "# *Operaciones por defecto*"
      ],
      "metadata": {
        "id": "D-OfjFwDXBOW"
      }
    },
    {
      "cell_type": "code",
      "source": [
        "operacion1 = (b+c)\n",
        "operacion2 = A*operacion1\n",
        "print(operacion2)"
      ],
      "metadata": {
        "colab": {
          "base_uri": "https://localhost:8080/"
        },
        "id": "0oUf-ZxsXE9n",
        "outputId": "478a272f-89c6-4255-8779-066b62b3a9b3"
      },
      "execution_count": null,
      "outputs": [
        {
          "output_type": "stream",
          "name": "stdout",
          "text": [
            "Vector([528, 657, 786])\n"
          ]
        }
      ]
    },
    {
      "cell_type": "markdown",
      "source": [
        "$\\begin{pmatrix}528\\\\ 657\\\\ 786\\end{pmatrix}$"
      ],
      "metadata": {
        "id": "LA7BtHjoZHvM"
      }
    },
    {
      "cell_type": "code",
      "source": [
        "operacion3 = A*b+A*c\n",
        "print(operacion3)\n",
        "operacion2"
      ],
      "metadata": {
        "colab": {
          "base_uri": "https://localhost:8080/",
          "height": 64
        },
        "id": "j4sEZf8QYgoR",
        "outputId": "596bd251-24d3-4345-d113-2f4655c6c6a0"
      },
      "execution_count": null,
      "outputs": [
        {
          "output_type": "stream",
          "name": "stdout",
          "text": [
            "Vector([528, 657, 786])\n"
          ]
        },
        {
          "output_type": "execute_result",
          "data": {
            "text/plain": [
              "Vector([528, 657, 786])"
            ],
            "text/html": [
              "<p style=\"text-align:center;\">$\\begin{pmatrix}528\\\\ 657\\\\ 786\\end{pmatrix}$</p>"
            ],
            "image/png": "$\\begin{pmatrix}528\\\\ 657\\\\ 786\\end{pmatrix}$",
            "text/latex": "$\\begin{pmatrix}528\\\\ 657\\\\ 786\\end{pmatrix}$"
          },
          "metadata": {},
          "execution_count": 18
        }
      ]
    },
    {
      "cell_type": "markdown",
      "source": [
        "$\\begin{pmatrix}528\\\\ 657\\\\ 786\\end{pmatrix}$"
      ],
      "metadata": {
        "id": "Xj077K7cYz9b"
      }
    },
    {
      "cell_type": "markdown",
      "source": [
        "# *A(b+c)=Ab+Ac*"
      ],
      "metadata": {
        "id": "sPmVt4N0ZcaF"
      }
    },
    {
      "cell_type": "code",
      "source": [
        "operacion4 = A*(3*b)\n",
        "print(operacion4)\n",
        "operacion4"
      ],
      "metadata": {
        "colab": {
          "base_uri": "https://localhost:8080/",
          "height": 64
        },
        "id": "NSYhb92tZjM9",
        "outputId": "96f2e4c2-8ab3-41e8-9698-502f3d2c268d"
      },
      "execution_count": null,
      "outputs": [
        {
          "output_type": "stream",
          "name": "stdout",
          "text": [
            "Vector([738, 918, 1098])\n"
          ]
        },
        {
          "output_type": "execute_result",
          "data": {
            "text/plain": [
              "Vector([738, 918, 1098])"
            ],
            "text/html": [
              "<p style=\"text-align:center;\">$\\begin{pmatrix}738\\\\ 918\\\\ 1098\\end{pmatrix}$</p>"
            ],
            "image/png": "$\\begin{pmatrix}738\\\\ 918\\\\ 1098\\end{pmatrix}$",
            "text/latex": "$\\begin{pmatrix}738\\\\ 918\\\\ 1098\\end{pmatrix}$"
          },
          "metadata": {},
          "execution_count": 24
        }
      ]
    },
    {
      "cell_type": "markdown",
      "source": [
        "$\\begin{pmatrix}738\\\\ 918\\\\ 1098\\end{pmatrix}$"
      ],
      "metadata": {
        "id": "Qtue7azAaI8L"
      }
    },
    {
      "cell_type": "code",
      "source": [
        "operacion5 = 3*(A*b)\n",
        "print(operacion5)\n",
        "operacion5"
      ],
      "metadata": {
        "colab": {
          "base_uri": "https://localhost:8080/",
          "height": 64
        },
        "id": "JLxn5khFZ4Xk",
        "outputId": "a08dbf36-0896-4273-df17-17d433791a06"
      },
      "execution_count": null,
      "outputs": [
        {
          "output_type": "stream",
          "name": "stdout",
          "text": [
            "Vector([738, 918, 1098])\n"
          ]
        },
        {
          "output_type": "execute_result",
          "data": {
            "text/plain": [
              "Vector([738, 918, 1098])"
            ],
            "text/html": [
              "<p style=\"text-align:center;\">$\\begin{pmatrix}738\\\\ 918\\\\ 1098\\end{pmatrix}$</p>"
            ],
            "image/png": "$\\begin{pmatrix}738\\\\ 918\\\\ 1098\\end{pmatrix}$",
            "text/latex": "$\\begin{pmatrix}738\\\\ 918\\\\ 1098\\end{pmatrix}$"
          },
          "metadata": {},
          "execution_count": 25
        }
      ]
    },
    {
      "cell_type": "markdown",
      "source": [
        "$\\begin{pmatrix}738\\\\ 918\\\\ 1098\\end{pmatrix}$"
      ],
      "metadata": {
        "id": "oWzHbWYKaMDN"
      }
    },
    {
      "cell_type": "markdown",
      "source": [
        "# *(λb)A=λ(bA)*"
      ],
      "metadata": {
        "id": "YmR0wKFyaPu2"
      }
    },
    {
      "cell_type": "code",
      "source": [
        "operacion6 = (2*b)*A\n",
        "print(operacion6)\n",
        "operacion6"
      ],
      "metadata": {
        "colab": {
          "base_uri": "https://localhost:8080/",
          "height": 64
        },
        "id": "PagunXvdauDR",
        "outputId": "c441bf0b-fa9e-41b1-e486-ae4c7fa1ebc6"
      },
      "execution_count": null,
      "outputs": [
        {
          "output_type": "stream",
          "name": "stdout",
          "text": [
            "Vector([244, 604, 964])\n"
          ]
        },
        {
          "output_type": "execute_result",
          "data": {
            "text/plain": [
              "Vector([244, 604, 964])"
            ],
            "text/html": [
              "<p style=\"text-align:center;\">$\\begin{pmatrix}244,& 604,& 964,\\end{pmatrix}$</p>"
            ],
            "image/png": "$\\begin{pmatrix}244,& 604,& 964,\\end{pmatrix}$",
            "text/latex": "$\\begin{pmatrix}244,& 604,& 964,\\end{pmatrix}$"
          },
          "metadata": {},
          "execution_count": 26
        }
      ]
    },
    {
      "cell_type": "markdown",
      "source": [
        "$\\begin{pmatrix}244,& 604,& 964,\\end{pmatrix}$"
      ],
      "metadata": {
        "id": "5U_GrP15bBXU"
      }
    },
    {
      "cell_type": "code",
      "source": [
        "operacion7 = 2*(b*A)\n",
        "print(operacion7)\n",
        "operacion7"
      ],
      "metadata": {
        "colab": {
          "base_uri": "https://localhost:8080/",
          "height": 64
        },
        "id": "5C-rbhNXbC8u",
        "outputId": "c5abd5a4-d90c-4d73-f9de-14ac32c814ff"
      },
      "execution_count": null,
      "outputs": [
        {
          "output_type": "stream",
          "name": "stdout",
          "text": [
            "Vector([244, 604, 964])\n"
          ]
        },
        {
          "output_type": "execute_result",
          "data": {
            "text/plain": [
              "Vector([244, 604, 964])"
            ],
            "text/html": [
              "<p style=\"text-align:center;\">$\\begin{pmatrix}244\\\\ 604\\\\ 964\\end{pmatrix}$</p>"
            ],
            "image/png": "$\\begin{pmatrix}244\\\\ 604\\\\ 964\\end{pmatrix}$",
            "text/latex": "$\\begin{pmatrix}244\\\\ 604\\\\ 964\\end{pmatrix}$"
          },
          "metadata": {},
          "execution_count": 27
        }
      ]
    },
    {
      "cell_type": "markdown",
      "source": [
        "$\\begin{pmatrix}244\\\\ 604\\\\ 964\\end{pmatrix}$"
      ],
      "metadata": {
        "id": "YsBUit6pbf3s"
      }
    },
    {
      "cell_type": "markdown",
      "source": [
        "# *Operaciones extras*"
      ],
      "metadata": {
        "id": "Pwm_DhYpbpU2"
      }
    },
    {
      "cell_type": "markdown",
      "source": [
        "# *A(Bc)=[A(B|1);...A(B|n);]c*"
      ],
      "metadata": {
        "id": "i684e169byMg"
      }
    },
    {
      "cell_type": "code",
      "source": [
        "operacion8 = (B|1)*A\n",
        "print(operacion8)\n",
        "operacion8"
      ],
      "metadata": {
        "colab": {
          "base_uri": "https://localhost:8080/",
          "height": 64
        },
        "id": "ZIiDnFOoccLi",
        "outputId": "1eb1c6ad-2d4f-4f6d-db66-24cd46774c10"
      },
      "execution_count": null,
      "outputs": [
        {
          "output_type": "stream",
          "name": "stdout",
          "text": [
            "Vector([68, 167, 266])\n"
          ]
        },
        {
          "output_type": "execute_result",
          "data": {
            "text/plain": [
              "Vector([68, 167, 266])"
            ],
            "text/html": [
              "<p style=\"text-align:center;\">$\\begin{pmatrix}68,& 167,& 266,\\end{pmatrix}$</p>"
            ],
            "image/png": "$\\begin{pmatrix}68,& 167,& 266,\\end{pmatrix}$",
            "text/latex": "$\\begin{pmatrix}68,& 167,& 266,\\end{pmatrix}$"
          },
          "metadata": {},
          "execution_count": 28
        }
      ]
    },
    {
      "cell_type": "markdown",
      "source": [
        "$\\begin{pmatrix}68,& 167,& 266,\\end{pmatrix}$"
      ],
      "metadata": {
        "id": "lyG3Dwb2co1B"
      }
    },
    {
      "cell_type": "code",
      "source": [
        "operacion9 = (B|2)*A\n",
        "print(operacion9)\n",
        "operacion9"
      ],
      "metadata": {
        "colab": {
          "base_uri": "https://localhost:8080/",
          "height": 64
        },
        "id": "inJ8ZxDccrQE",
        "outputId": "ea4a13f7-a83b-416d-9fcd-ea9218782367"
      },
      "execution_count": null,
      "outputs": [
        {
          "output_type": "stream",
          "name": "stdout",
          "text": [
            "Vector([86, 212, 338])\n"
          ]
        },
        {
          "output_type": "execute_result",
          "data": {
            "text/plain": [
              "Vector([86, 212, 338])"
            ],
            "text/html": [
              "<p style=\"text-align:center;\">$\\begin{pmatrix}86,& 212,& 338,\\end{pmatrix}$</p>"
            ],
            "image/png": "$\\begin{pmatrix}86,& 212,& 338,\\end{pmatrix}$",
            "text/latex": "$\\begin{pmatrix}86,& 212,& 338,\\end{pmatrix}$"
          },
          "metadata": {},
          "execution_count": 29
        }
      ]
    },
    {
      "cell_type": "markdown",
      "source": [
        "$\\begin{pmatrix}86,& 212,& 338,\\end{pmatrix}$"
      ],
      "metadata": {
        "id": "4BAFs1BmdKK_"
      }
    },
    {
      "cell_type": "code",
      "source": [
        "operacion10 = (B|3)*A\n",
        "print(operacion10)\n",
        "operacion10"
      ],
      "metadata": {
        "colab": {
          "base_uri": "https://localhost:8080/",
          "height": 64
        },
        "id": "8TJ55L4cc1n7",
        "outputId": "fab80d07-d9c9-431b-815b-dcee6288e29e"
      },
      "execution_count": null,
      "outputs": [
        {
          "output_type": "stream",
          "name": "stdout",
          "text": [
            "Vector([104, 257, 410])\n"
          ]
        },
        {
          "output_type": "execute_result",
          "data": {
            "text/plain": [
              "Vector([104, 257, 410])"
            ],
            "text/html": [
              "<p style=\"text-align:center;\">$\\begin{pmatrix}104,& 257,& 410,\\end{pmatrix}$</p>"
            ],
            "image/png": "$\\begin{pmatrix}104,& 257,& 410,\\end{pmatrix}$",
            "text/latex": "$\\begin{pmatrix}104,& 257,& 410,\\end{pmatrix}$"
          },
          "metadata": {},
          "execution_count": 30
        }
      ]
    },
    {
      "cell_type": "markdown",
      "source": [
        "$\\begin{pmatrix}104,& 257,& 410,\\end{pmatrix}$"
      ],
      "metadata": {
        "id": "qPhxLdJtdM_0"
      }
    },
    {
      "cell_type": "code",
      "source": [
        "operacion11 = operacion8*c\n",
        "print(operacion11)\n",
        "operacion11"
      ],
      "metadata": {
        "colab": {
          "base_uri": "https://localhost:8080/"
        },
        "id": "FVomc8iGdRIX",
        "outputId": "d2950253-6677-43e4-b864-874c6e3a76d2"
      },
      "execution_count": null,
      "outputs": [
        {
          "output_type": "stream",
          "name": "stdout",
          "text": [
            "11721\n"
          ]
        },
        {
          "output_type": "execute_result",
          "data": {
            "text/plain": [
              "11721"
            ]
          },
          "metadata": {},
          "execution_count": 32
        }
      ]
    },
    {
      "cell_type": "markdown",
      "source": [
        "*Operacion11=11721*"
      ],
      "metadata": {
        "id": "91gMaTVndgE9"
      }
    },
    {
      "cell_type": "markdown",
      "source": [
        "# *Operación para línea en la matriz:*\n",
        "# *(A+B)c=Ac+Bc*"
      ],
      "metadata": {
        "id": "Jpbkhanudp9v"
      }
    },
    {
      "cell_type": "code",
      "source": [
        "operacion12 = (A+B)*c\n",
        "print(operacion12)\n",
        "operacion12"
      ],
      "metadata": {
        "colab": {
          "base_uri": "https://localhost:8080/",
          "height": 81
        },
        "id": "nGmA4MlAeTF0",
        "outputId": "9736b64b-e8a1-4324-97d3-f4f84659664d"
      },
      "execution_count": 45,
      "outputs": [
        {
          "output_type": "stream",
          "name": "stdout",
          "text": [
            "Vector([1185, 1323, 1461])\n"
          ]
        },
        {
          "output_type": "execute_result",
          "data": {
            "text/plain": [
              "Vector([1185, 1323, 1461])"
            ],
            "text/html": [
              "<p style=\"text-align:center;\">$\\begin{pmatrix}1185\\\\ 1323\\\\ 1461\\end{pmatrix}$</p>"
            ],
            "image/png": "$\\begin{pmatrix}1185\\\\ 1323\\\\ 1461\\end{pmatrix}$",
            "text/latex": "$\\begin{pmatrix}1185\\\\ 1323\\\\ 1461\\end{pmatrix}$"
          },
          "metadata": {},
          "execution_count": 45
        }
      ]
    },
    {
      "cell_type": "markdown",
      "source": [
        "$\\begin{pmatrix}1185\\\\ 1323\\\\ 1461\\end{pmatrix}$"
      ],
      "metadata": {
        "id": "CpkMkFbketNV"
      }
    },
    {
      "cell_type": "code",
      "source": [
        "operacion13 = A*c + B*c\n",
        "print(operacion13)\n",
        "operacion13"
      ],
      "metadata": {
        "id": "swPhE4VieulZ",
        "colab": {
          "base_uri": "https://localhost:8080/",
          "height": 81
        },
        "outputId": "8ac19af9-2383-480d-9a05-575820c352d8"
      },
      "execution_count": 46,
      "outputs": [
        {
          "output_type": "stream",
          "name": "stdout",
          "text": [
            "Vector([1185, 1323, 1461])\n"
          ]
        },
        {
          "output_type": "execute_result",
          "data": {
            "text/plain": [
              "Vector([1185, 1323, 1461])"
            ],
            "text/html": [
              "<p style=\"text-align:center;\">$\\begin{pmatrix}1185\\\\ 1323\\\\ 1461\\end{pmatrix}$</p>"
            ],
            "image/png": "$\\begin{pmatrix}1185\\\\ 1323\\\\ 1461\\end{pmatrix}$",
            "text/latex": "$\\begin{pmatrix}1185\\\\ 1323\\\\ 1461\\end{pmatrix}$"
          },
          "metadata": {},
          "execution_count": 46
        }
      ]
    },
    {
      "cell_type": "markdown",
      "source": [
        "$\\begin{pmatrix}1185\\\\ 1323\\\\ 1461\\end{pmatrix}$"
      ],
      "metadata": {
        "id": "3nEhDBNsf2CP"
      }
    },
    {
      "cell_type": "markdown",
      "source": [
        "# *(λA)b=λ(Ab)*"
      ],
      "metadata": {
        "id": "RToJrL34fBr4"
      }
    },
    {
      "cell_type": "code",
      "source": [
        "operacion14 = (3*A)*b\n",
        "print(operacion14)\n",
        "operacion14"
      ],
      "metadata": {
        "id": "afBUWP52fkIk",
        "colab": {
          "base_uri": "https://localhost:8080/",
          "height": 64
        },
        "outputId": "8039e897-5bf3-4cb6-8740-7a3d8b1f7ce4"
      },
      "execution_count": 47,
      "outputs": [
        {
          "output_type": "stream",
          "name": "stdout",
          "text": [
            "Vector([738, 918, 1098])\n"
          ]
        },
        {
          "output_type": "execute_result",
          "data": {
            "text/plain": [
              "Vector([738, 918, 1098])"
            ],
            "text/html": [
              "<p style=\"text-align:center;\">$\\begin{pmatrix}738\\\\ 918\\\\ 1098\\end{pmatrix}$</p>"
            ],
            "image/png": "$\\begin{pmatrix}738\\\\ 918\\\\ 1098\\end{pmatrix}$",
            "text/latex": "$\\begin{pmatrix}738\\\\ 918\\\\ 1098\\end{pmatrix}$"
          },
          "metadata": {},
          "execution_count": 47
        }
      ]
    },
    {
      "cell_type": "markdown",
      "source": [
        "$\\begin{pmatrix}738\\\\ 918\\\\ 1098\\end{pmatrix}$"
      ],
      "metadata": {
        "id": "NN_lOrP1e9yu"
      }
    },
    {
      "cell_type": "code",
      "source": [
        "operacion15 = 3*(A*b)\n",
        "print(operacion15)\n",
        "operacion15"
      ],
      "metadata": {
        "colab": {
          "base_uri": "https://localhost:8080/",
          "height": 64
        },
        "id": "UG05Ymn3gkLh",
        "outputId": "4ad7b666-bc51-4b41-8cc1-eb5740e2a125"
      },
      "execution_count": 42,
      "outputs": [
        {
          "output_type": "stream",
          "name": "stdout",
          "text": [
            "Vector([738, 918, 1098])\n"
          ]
        },
        {
          "output_type": "execute_result",
          "data": {
            "text/plain": [
              "Vector([738, 918, 1098])"
            ],
            "text/html": [
              "<p style=\"text-align:center;\">$\\begin{pmatrix}738\\\\ 918\\\\ 1098\\end{pmatrix}$</p>"
            ],
            "image/png": "$\\begin{pmatrix}738\\\\ 918\\\\ 1098\\end{pmatrix}$",
            "text/latex": "$\\begin{pmatrix}738\\\\ 918\\\\ 1098\\end{pmatrix}$"
          },
          "metadata": {},
          "execution_count": 42
        }
      ]
    },
    {
      "cell_type": "markdown",
      "source": [
        "$\\begin{pmatrix}738\\\\ 918\\\\ 1098\\end{pmatrix}$"
      ],
      "metadata": {
        "id": "qMc4QMUKhKAv"
      }
    }
  ]
}