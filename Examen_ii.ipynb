{
  "nbformat": 4,
  "nbformat_minor": 0,
  "metadata": {
    "colab": {
      "provenance": [],
      "include_colab_link": true
    },
    "kernelspec": {
      "name": "python3",
      "display_name": "Python 3"
    },
    "language_info": {
      "name": "python"
    }
  },
  "cells": [
    {
      "cell_type": "markdown",
      "metadata": {
        "id": "view-in-github",
        "colab_type": "text"
      },
      "source": [
        "<a href=\"https://colab.research.google.com/github/SebastianEliezer/Trabajos/blob/main/Examen_ii.ipynb\" target=\"_parent\"><img src=\"https://colab.research.google.com/assets/colab-badge.svg\" alt=\"Open In Colab\"/></a>"
      ]
    },
    {
      "cell_type": "code",
      "execution_count": 93,
      "metadata": {
        "colab": {
          "base_uri": "https://localhost:8080/"
        },
        "id": "T9mcRMDLVpzh",
        "outputId": "6ab442db-5ce1-4760-88cc-1b5544fbe144"
      },
      "outputs": [
        {
          "output_type": "stream",
          "name": "stdout",
          "text": [
            "Requirement already satisfied: nacal in /usr/local/lib/python3.10/dist-packages (0.2.1)\n",
            "Requirement already satisfied: sympy>=1.1.0 in /usr/local/lib/python3.10/dist-packages (from nacal) (1.12.1)\n",
            "Requirement already satisfied: mpmath<1.4.0,>=1.1.0 in /usr/local/lib/python3.10/dist-packages (from sympy>=1.1.0->nacal) (1.3.0)\n"
          ]
        }
      ],
      "source": [
        "!pip install --target=$nb_path nacal\n",
        "from nacal import *"
      ]
    },
    {
      "cell_type": "markdown",
      "source": [
        "1. Para la siguiente matriz $$\\left[ \\begin{array}{cccc}3&-2&2&1\\\\1&-1&-1&-3\\\\2&1&2&4\\\\4&-4&1&2\\\\ \\end{array} \\right]$$ lleva a cabo el algoritmo de eliminación paso a paso.\n",
        "\n",
        "Escribe en una celda separada cada operacion elemental."
      ],
      "metadata": {
        "id": "hBXBxw0VcrAh"
      }
    },
    {
      "cell_type": "code",
      "source": [
        "x= Vector((3,1,2,4)); y=Vector((-2,-1,1,-4)); z= Vector((2,-1,2,1)); w=Vector((1,-3,4,2))\n",
        "M= Matrix([x,y,z,w])\n",
        "M"
      ],
      "metadata": {
        "colab": {
          "base_uri": "https://localhost:8080/",
          "height": 46
        },
        "id": "MTjbnzIxPd9M",
        "outputId": "a72beff7-2e0a-4ac5-b1c9-70736267b6fa"
      },
      "execution_count": 94,
      "outputs": [
        {
          "output_type": "execute_result",
          "data": {
            "text/plain": [
              "Matrix([Vector([3, 1, 2, 4]), Vector([-2, -1, 1, -4]), Vector([2, -1, 2, 1]), Vector([1, -3, 4, 2])])"
            ],
            "text/html": [
              "<p style=\"text-align:center;\">$\\left[ \\begin{array}{cccc}3&-2&2&1\\\\1&-1&-1&-3\\\\2&1&2&4\\\\4&-4&1&2\\\\ \\end{array} \\right]$</p>"
            ],
            "image/png": "$\\left[ \\begin{array}{cccc}3&-2&2&1\\\\1&-1&-1&-3\\\\2&1&2&4\\\\4&-4&1&2\\\\ \\end{array} \\right]$",
            "text/latex": "$\\left[ \\begin{array}{cccc}3&-2&2&1\\\\1&-1&-1&-3\\\\2&1&2&4\\\\4&-4&1&2\\\\ \\end{array} \\right]$"
          },
          "metadata": {},
          "execution_count": 94
        }
      ]
    },
    {
      "cell_type": "code",
      "source": [
        "R = Elim(M,1)"
      ],
      "metadata": {
        "colab": {
          "base_uri": "https://localhost:8080/",
          "height": 144
        },
        "id": "comxpyUgPqgL",
        "outputId": "168e77cf-6178-412a-cf5c-16d53a41ca5d"
      },
      "execution_count": 95,
      "outputs": [
        {
          "output_type": "display_data",
          "data": {
            "text/plain": [
              "<IPython.core.display.Math object>"
            ],
            "text/latex": "$\\displaystyle \\left[ \\begin{array}{cccc}3&-2&2&1\\\\1&-1&-1&-3\\\\2&1&2&4\\\\4&-4&1&2\\\\ \\end{array} \\right]\\xrightarrow{\\underset{\\begin{subarray}{c} \\left[\\left(3\\right)\\mathbf{2}\\right]\\\\\\left[\\left(2\\right)\\mathbf{1}+\\mathbf{2} \\right]\\\\\\left[\\left(3\\right)\\mathbf{3}\\right]\\\\\\left[\\left(-2\\right)\\mathbf{1}+\\mathbf{3} \\right]\\\\\\left[\\left(3\\right)\\mathbf{4}\\right]\\\\\\left[\\left(-1\\right)\\mathbf{1}+\\mathbf{4} \\right]\\end{subarray}}{\\pmb{\\tau}}}\\left[ \\begin{array}{cccc}3&0&0&0\\\\1&-1&-5&-10\\\\2&7&2&10\\\\4&-4&-5&2\\\\ \\end{array} \\right]\\xrightarrow{\\underset{\\begin{subarray}{c} \\left[\\left(-5\\right)\\mathbf{2}+\\mathbf{3} \\right]\\\\\\left[\\left(-10\\right)\\mathbf{2}+\\mathbf{4} \\right]\\end{subarray}}{\\pmb{\\tau}}}\\left[ \\begin{array}{cccc}3&0&0&0\\\\1&-1&0&0\\\\2&7&-33&-60\\\\4&-4&15&42\\\\ \\end{array} \\right]\\xrightarrow{\\underset{\\begin{subarray}{c} \\left[\\left(11\\right)\\mathbf{4}\\right]\\\\\\left[\\left(-20\\right)\\mathbf{3}+\\mathbf{4} \\right]\\end{subarray}}{\\pmb{\\tau}}}\\left[ \\begin{array}{cccc}3&0&0&0\\\\1&-1&0&0\\\\2&7&-33&0\\\\4&-4&15&162\\\\ \\end{array} \\right]$"
          },
          "metadata": {}
        }
      ]
    },
    {
      "cell_type": "code",
      "source": [
        "G = ElimG(M, 1)"
      ],
      "metadata": {
        "colab": {
          "base_uri": "https://localhost:8080/",
          "height": 144
        },
        "id": "zR7vOFyePvGu",
        "outputId": "e0a671a6-9b2c-4a18-a86d-fa5b604e7c61"
      },
      "execution_count": 96,
      "outputs": [
        {
          "output_type": "display_data",
          "data": {
            "text/plain": [
              "<IPython.core.display.Math object>"
            ],
            "text/latex": "$\\displaystyle \\left[ \\begin{array}{cccc}3&-2&2&1\\\\1&-1&-1&-3\\\\2&1&2&4\\\\4&-4&1&2\\\\ \\end{array} \\right]\\xrightarrow{\\underset{\\begin{subarray}{c} \\left[\\left(3\\right)\\mathbf{2}\\right]\\\\\\left[\\left(2\\right)\\mathbf{1}+\\mathbf{2} \\right]\\\\\\left[\\left(3\\right)\\mathbf{3}\\right]\\\\\\left[\\left(-2\\right)\\mathbf{1}+\\mathbf{3} \\right]\\\\\\left[\\left(3\\right)\\mathbf{4}\\right]\\\\\\left[\\left(-1\\right)\\mathbf{1}+\\mathbf{4} \\right]\\end{subarray}}{\\pmb{\\tau}}}\\left[ \\begin{array}{cccc}3&0&0&0\\\\1&-1&-5&-10\\\\2&7&2&10\\\\4&-4&-5&2\\\\ \\end{array} \\right]\\xrightarrow{\\underset{\\begin{subarray}{c} \\left[\\left(-5\\right)\\mathbf{2}+\\mathbf{3} \\right]\\\\\\left[\\left(-10\\right)\\mathbf{2}+\\mathbf{4} \\right]\\end{subarray}}{\\pmb{\\tau}}}\\left[ \\begin{array}{cccc}3&0&0&0\\\\1&-1&0&0\\\\2&7&-33&-60\\\\4&-4&15&42\\\\ \\end{array} \\right]\\xrightarrow{\\underset{\\begin{subarray}{c} \\left[\\left(11\\right)\\mathbf{4}\\right]\\\\\\left[\\left(-20\\right)\\mathbf{3}+\\mathbf{4} \\right]\\end{subarray}}{\\pmb{\\tau}}}\\left[ \\begin{array}{cccc}3&0&0&0\\\\1&-1&0&0\\\\2&7&-33&0\\\\4&-4&15&162\\\\ \\end{array} \\right]$"
          },
          "metadata": {}
        }
      ]
    },
    {
      "cell_type": "code",
      "source": [
        "GJ = ElimGJ(M, 1)"
      ],
      "metadata": {
        "colab": {
          "base_uri": "https://localhost:8080/",
          "height": 271
        },
        "id": "OkgZJ29mP8A5",
        "outputId": "0be721c0-492a-4d5e-a0fd-9b6593735b8a"
      },
      "execution_count": 97,
      "outputs": [
        {
          "output_type": "display_data",
          "data": {
            "text/plain": [
              "<IPython.core.display.Math object>"
            ],
            "text/latex": "$\\displaystyle \\left[ \\begin{array}{cccc}3&-2&2&1\\\\1&-1&-1&-3\\\\2&1&2&4\\\\4&-4&1&2\\\\ \\end{array} \\right]\\xrightarrow{\\underset{\\begin{subarray}{c} \\left[\\left(3\\right)\\mathbf{2}\\right]\\\\\\left[\\left(2\\right)\\mathbf{1}+\\mathbf{2} \\right]\\\\\\left[\\left(3\\right)\\mathbf{3}\\right]\\\\\\left[\\left(-2\\right)\\mathbf{1}+\\mathbf{3} \\right]\\\\\\left[\\left(3\\right)\\mathbf{4}\\right]\\\\\\left[\\left(-1\\right)\\mathbf{1}+\\mathbf{4} \\right]\\end{subarray}}{\\pmb{\\tau}}}\\left[ \\begin{array}{cccc}3&0&0&0\\\\1&-1&-5&-10\\\\2&7&2&10\\\\4&-4&-5&2\\\\ \\end{array} \\right]\\xrightarrow{\\underset{\\begin{subarray}{c} \\left[\\left(1\\right)\\mathbf{2}+\\mathbf{1} \\right]\\\\\\left[\\left(-5\\right)\\mathbf{2}+\\mathbf{3} \\right]\\\\\\left[\\left(-10\\right)\\mathbf{2}+\\mathbf{4} \\right]\\end{subarray}}{\\pmb{\\tau}}}\\left[ \\begin{array}{cccc}3&0&0&0\\\\0&-1&0&0\\\\9&7&-33&-60\\\\0&-4&15&42\\\\ \\end{array} \\right]\\xrightarrow{\\underset{\\begin{subarray}{c} \\left[\\left(11\\right)\\mathbf{1}\\right]\\\\\\left[\\left(3\\right)\\mathbf{3}+\\mathbf{1} \\right]\\\\\\left[\\left(33\\right)\\mathbf{2}\\right]\\\\\\left[\\left(7\\right)\\mathbf{3}+\\mathbf{2} \\right]\\\\\\left[\\left(11\\right)\\mathbf{4}\\right]\\\\\\left[\\left(-20\\right)\\mathbf{3}+\\mathbf{4} \\right]\\end{subarray}}{\\pmb{\\tau}}}\\left[ \\begin{array}{cccc}33&0&0&0\\\\0&-33&0&0\\\\0&0&-33&0\\\\45&-27&15&162\\\\ \\end{array} \\right]\\xrightarrow{\\underset{\\begin{subarray}{c} \\left[\\left(18\\right)\\mathbf{1}\\right]\\\\\\left[\\left(-5\\right)\\mathbf{4}+\\mathbf{1} \\right]\\\\\\left[\\left(6\\right)\\mathbf{2}\\right]\\\\\\left[\\left(1\\right)\\mathbf{4}+\\mathbf{2} \\right]\\\\\\left[\\left(54\\right)\\mathbf{3}\\right]\\\\\\left[\\left(-5\\right)\\mathbf{4}+\\mathbf{3} \\right]\\end{subarray}}{\\pmb{\\tau}}}\\left[ \\begin{array}{cccc}594&0&0&0\\\\0&-198&0&0\\\\0&0&-1782&0\\\\0&0&0&162\\\\ \\end{array} \\right]\\xrightarrow{\\underset{\\begin{subarray}{c} \\left[\\left(\\frac{1}{594}\\right)\\mathbf{1}\\right]\\\\\\left[\\left(- \\frac{1}{198}\\right)\\mathbf{2}\\right]\\\\\\left[\\left(- \\frac{1}{1782}\\right)\\mathbf{3}\\right]\\\\\\left[\\left(\\frac{1}{162}\\right)\\mathbf{4}\\right]\\end{subarray}}{\\pmb{\\tau}}}\\left[ \\begin{array}{cccc}1&0&0&0\\\\0&1&0&0\\\\0&0&1&0\\\\0&0&0&1\\\\ \\end{array} \\right]$"
          },
          "metadata": {}
        }
      ]
    },
    {
      "cell_type": "markdown",
      "source": [
        "2. Escriba las siguientes matrices elementales de orden 4.\n",
        "\n",
        "\n",
        "(a) I τ\n",
        "[(−7)1+3]\n",
        "\n",
        "(b) I τ\n",
        "[(1)1+4]\n",
        "\n",
        "(c) I τ\n",
        "[(3)2+1]\n",
        "\n",
        "(d) I τ\n",
        "[(−10)3]"
      ],
      "metadata": {
        "id": "2wXEkEH9hXGe"
      }
    },
    {
      "cell_type": "code",
      "source": [
        "# a\n",
        "M&T((-7,1+3))"
      ],
      "metadata": {
        "colab": {
          "base_uri": "https://localhost:8080/",
          "height": 46
        },
        "id": "zivKwSviQmgE",
        "outputId": "2a7eff4c-bf3b-4c3a-db26-e718ce8df12b"
      },
      "execution_count": 98,
      "outputs": [
        {
          "output_type": "execute_result",
          "data": {
            "text/plain": [
              "Matrix([Vector([3, 1, 2, 4]), Vector([-2, -1, 1, -4]), Vector([2, -1, 2, 1]), Vector([-7, 21, -28, -14])])"
            ],
            "text/html": [
              "<p style=\"text-align:center;\">$\\left[ \\begin{array}{cccc}3&-2&2&-7\\\\1&-1&-1&21\\\\2&1&2&-28\\\\4&-4&1&-14\\\\ \\end{array} \\right]$</p>"
            ],
            "image/png": "$\\left[ \\begin{array}{cccc}3&-2&2&-7\\\\1&-1&-1&21\\\\2&1&2&-28\\\\4&-4&1&-14\\\\ \\end{array} \\right]$",
            "text/latex": "$\\left[ \\begin{array}{cccc}3&-2&2&-7\\\\1&-1&-1&21\\\\2&1&2&-28\\\\4&-4&1&-14\\\\ \\end{array} \\right]$"
          },
          "metadata": {},
          "execution_count": 98
        }
      ]
    },
    {
      "cell_type": "code",
      "source": [
        "# b\n",
        "M&T(((1),1+4))"
      ],
      "metadata": {
        "id": "kBuGIWxwQmsN",
        "outputId": "62746f84-2244-4614-ba68-18d524b40254",
        "colab": {
          "base_uri": "https://localhost:8080/",
          "height": 46
        }
      },
      "execution_count": 99,
      "outputs": [
        {
          "output_type": "execute_result",
          "data": {
            "text/plain": [
              "Matrix([Vector([3, 1, 2, 4]), Vector([-2, -1, 1, -4]), Vector([2, -1, 2, 1]), Vector([-7, 21, -28, -14])])"
            ],
            "text/html": [
              "<p style=\"text-align:center;\">$\\left[ \\begin{array}{cccc}3&-2&2&-7\\\\1&-1&-1&21\\\\2&1&2&-28\\\\4&-4&1&-14\\\\ \\end{array} \\right]$</p>"
            ],
            "image/png": "$\\left[ \\begin{array}{cccc}3&-2&2&-7\\\\1&-1&-1&21\\\\2&1&2&-28\\\\4&-4&1&-14\\\\ \\end{array} \\right]$",
            "text/latex": "$\\left[ \\begin{array}{cccc}3&-2&2&-7\\\\1&-1&-1&21\\\\2&1&2&-28\\\\4&-4&1&-14\\\\ \\end{array} \\right]$"
          },
          "metadata": {},
          "execution_count": 99
        }
      ]
    },
    {
      "cell_type": "code",
      "source": [
        "# c\n",
        "M&T(((3),2+1))"
      ],
      "metadata": {
        "id": "0rNvcFjfQm2I",
        "colab": {
          "base_uri": "https://localhost:8080/",
          "height": 46
        },
        "outputId": "0ee6d136-b43c-40b0-db7f-d15171e0c131"
      },
      "execution_count": 100,
      "outputs": [
        {
          "output_type": "execute_result",
          "data": {
            "text/plain": [
              "Matrix([Vector([3, 1, 2, 4]), Vector([-2, -1, 1, -4]), Vector([6, -3, 6, 3]), Vector([-7, 21, -28, -14])])"
            ],
            "text/html": [
              "<p style=\"text-align:center;\">$\\left[ \\begin{array}{cccc}3&-2&6&-7\\\\1&-1&-3&21\\\\2&1&6&-28\\\\4&-4&3&-14\\\\ \\end{array} \\right]$</p>"
            ],
            "image/png": "$\\left[ \\begin{array}{cccc}3&-2&6&-7\\\\1&-1&-3&21\\\\2&1&6&-28\\\\4&-4&3&-14\\\\ \\end{array} \\right]$",
            "text/latex": "$\\left[ \\begin{array}{cccc}3&-2&6&-7\\\\1&-1&-3&21\\\\2&1&6&-28\\\\4&-4&3&-14\\\\ \\end{array} \\right]$"
          },
          "metadata": {},
          "execution_count": 100
        }
      ]
    },
    {
      "cell_type": "code",
      "source": [
        "# d\n",
        "M&T(((-10),3))"
      ],
      "metadata": {
        "id": "Q3syvcvrQm-T",
        "colab": {
          "base_uri": "https://localhost:8080/",
          "height": 46
        },
        "outputId": "c1fc2c3a-72e2-459d-9982-9075096ddec9"
      },
      "execution_count": 101,
      "outputs": [
        {
          "output_type": "execute_result",
          "data": {
            "text/plain": [
              "Matrix([Vector([3, 1, 2, 4]), Vector([-2, -1, 1, -4]), Vector([-60, 30, -60, -30]), Vector([-7, 21, -28, -14])])"
            ],
            "text/html": [
              "<p style=\"text-align:center;\">$\\left[ \\begin{array}{cccc}3&-2&-60&-7\\\\1&-1&30&21\\\\2&1&-60&-28\\\\4&-4&-30&-14\\\\ \\end{array} \\right]$</p>"
            ],
            "image/png": "$\\left[ \\begin{array}{cccc}3&-2&-60&-7\\\\1&-1&30&21\\\\2&1&-60&-28\\\\4&-4&-30&-14\\\\ \\end{array} \\right]$",
            "text/latex": "$\\left[ \\begin{array}{cccc}3&-2&-60&-7\\\\1&-1&30&21\\\\2&1&-60&-28\\\\4&-4&-30&-14\\\\ \\end{array} \\right]$"
          },
          "metadata": {},
          "execution_count": 101
        }
      ]
    },
    {
      "cell_type": "markdown",
      "source": [
        "3. Sea la matriz A = $\\left[ \\begin{array}{cccc}1&1&1&1\\\\0&1&1&1\\\\1&2&3&4\\\\4&-4&1&2\\\\ \\end{array} \\right]$\n",
        ", exprese las siguientes transformaciones elementales de\n",
        "\n",
        "A como productos de A por matrices elementales y escriba el resultado:\n",
        "\n",
        "(a) Multiplicar la primera columna por 3. (b) Restar la primera columna de la segunda."
      ],
      "metadata": {
        "id": "pwJzrogtFnkN"
      }
    },
    {
      "cell_type": "code",
      "source": [
        "v= Vector((1,0,1,4)); b=Vector((1,1,2,-4)); n= Vector((1,1,3,1)); m=Vector((1,1,4,2))\n",
        "A= Matrix ([v,b,n,m])\n",
        "A"
      ],
      "metadata": {
        "colab": {
          "base_uri": "https://localhost:8080/",
          "height": 46
        },
        "id": "FD2nqvdITNY_",
        "outputId": "449fbbce-9473-4663-eaf3-663e4a30b1b2"
      },
      "execution_count": 102,
      "outputs": [
        {
          "output_type": "execute_result",
          "data": {
            "text/plain": [
              "Matrix([Vector([1, 0, 1, 4]), Vector([1, 1, 2, -4]), Vector([1, 1, 3, 1]), Vector([1, 1, 4, 2])])"
            ],
            "text/html": [
              "<p style=\"text-align:center;\">$\\left[ \\begin{array}{cccc}1&1&1&1\\\\0&1&1&1\\\\1&2&3&4\\\\4&-4&1&2\\\\ \\end{array} \\right]$</p>"
            ],
            "image/png": "$\\left[ \\begin{array}{cccc}1&1&1&1\\\\0&1&1&1\\\\1&2&3&4\\\\4&-4&1&2\\\\ \\end{array} \\right]$",
            "text/latex": "$\\left[ \\begin{array}{cccc}1&1&1&1\\\\0&1&1&1\\\\1&2&3&4\\\\4&-4&1&2\\\\ \\end{array} \\right]$"
          },
          "metadata": {},
          "execution_count": 102
        }
      ]
    },
    {
      "cell_type": "code",
      "source": [
        "# a\n",
        "M&T((3,1))"
      ],
      "metadata": {
        "colab": {
          "base_uri": "https://localhost:8080/",
          "height": 46
        },
        "id": "Gu43NBRDTuls",
        "outputId": "136232f3-f519-4fdb-8414-ea4d43c065f6"
      },
      "execution_count": 103,
      "outputs": [
        {
          "output_type": "execute_result",
          "data": {
            "text/plain": [
              "Matrix([Vector([9, 3, 6, 12]), Vector([-2, -1, 1, -4]), Vector([-60, 30, -60, -30]), Vector([-7, 21, -28, -14])])"
            ],
            "text/html": [
              "<p style=\"text-align:center;\">$\\left[ \\begin{array}{cccc}9&-2&-60&-7\\\\3&-1&30&21\\\\6&1&-60&-28\\\\12&-4&-30&-14\\\\ \\end{array} \\right]$</p>"
            ],
            "image/png": "$\\left[ \\begin{array}{cccc}9&-2&-60&-7\\\\3&-1&30&21\\\\6&1&-60&-28\\\\12&-4&-30&-14\\\\ \\end{array} \\right]$",
            "text/latex": "$\\left[ \\begin{array}{cccc}9&-2&-60&-7\\\\3&-1&30&21\\\\6&1&-60&-28\\\\12&-4&-30&-14\\\\ \\end{array} \\right]$"
          },
          "metadata": {},
          "execution_count": 103
        }
      ]
    },
    {
      "cell_type": "code",
      "source": [
        "# b\n",
        "M&T(((-1),3))"
      ],
      "metadata": {
        "colab": {
          "base_uri": "https://localhost:8080/",
          "height": 46
        },
        "id": "RXWDZgrJT_be",
        "outputId": "b1b6c2cc-aaf4-4afe-b580-44420fb4776a"
      },
      "execution_count": 104,
      "outputs": [
        {
          "output_type": "execute_result",
          "data": {
            "text/plain": [
              "Matrix([Vector([9, 3, 6, 12]), Vector([-2, -1, 1, -4]), Vector([60, -30, 60, 30]), Vector([-7, 21, -28, -14])])"
            ],
            "text/html": [
              "<p style=\"text-align:center;\">$\\left[ \\begin{array}{cccc}9&-2&60&-7\\\\3&-1&-30&21\\\\6&1&60&-28\\\\12&-4&30&-14\\\\ \\end{array} \\right]$</p>"
            ],
            "image/png": "$\\left[ \\begin{array}{cccc}9&-2&60&-7\\\\3&-1&-30&21\\\\6&1&60&-28\\\\12&-4&30&-14\\\\ \\end{array} \\right]$",
            "text/latex": "$\\left[ \\begin{array}{cccc}9&-2&60&-7\\\\3&-1&-30&21\\\\6&1&60&-28\\\\12&-4&30&-14\\\\ \\end{array} \\right]$"
          },
          "metadata": {},
          "execution_count": 104
        }
      ]
    },
    {
      "cell_type": "markdown",
      "source": [
        "4. Realiza el algoritmo de eliminación de Gauss-Jordan para la matriz del ejercicio 1, es decir continua las modificaciones de la matriz mediante operaciones elementales.\n",
        "Por cada paso del algoritmo escribe la celda de código correspondiente."
      ],
      "metadata": {
        "id": "NRMqK0VmB6px"
      }
    },
    {
      "cell_type": "code",
      "source": [
        "x= Vector((3,1,2,4)); y=Vector((-2,-1,1,-4)); z= Vector((2,-1,2,1)); w=Vector((1,-3,4,2))\n",
        "M= Matrix([x,y,z,w])\n",
        "M"
      ],
      "metadata": {
        "colab": {
          "base_uri": "https://localhost:8080/",
          "height": 46
        },
        "id": "haphMcplVzCZ",
        "outputId": "c03abd63-9ab4-4403-f0f9-48aec70cda54"
      },
      "execution_count": 107,
      "outputs": [
        {
          "output_type": "execute_result",
          "data": {
            "text/plain": [
              "Matrix([Vector([3, 1, 2, 4]), Vector([-2, -1, 1, -4]), Vector([2, -1, 2, 1]), Vector([1, -3, 4, 2])])"
            ],
            "text/html": [
              "<p style=\"text-align:center;\">$\\left[ \\begin{array}{cccc}3&-2&2&1\\\\1&-1&-1&-3\\\\2&1&2&4\\\\4&-4&1&2\\\\ \\end{array} \\right]$</p>"
            ],
            "image/png": "$\\left[ \\begin{array}{cccc}3&-2&2&1\\\\1&-1&-1&-3\\\\2&1&2&4\\\\4&-4&1&2\\\\ \\end{array} \\right]$",
            "text/latex": "$\\left[ \\begin{array}{cccc}3&-2&2&1\\\\1&-1&-1&-3\\\\2&1&2&4\\\\4&-4&1&2\\\\ \\end{array} \\right]$"
          },
          "metadata": {},
          "execution_count": 107
        }
      ]
    },
    {
      "cell_type": "code",
      "source": [
        "GJ = ElimGJ(M, 1)"
      ],
      "metadata": {
        "colab": {
          "base_uri": "https://localhost:8080/",
          "height": 271
        },
        "id": "xgmF3MVlXqnY",
        "outputId": "6c15d7f9-3cec-4309-c888-33f0622db118"
      },
      "execution_count": 106,
      "outputs": [
        {
          "output_type": "display_data",
          "data": {
            "text/plain": [
              "<IPython.core.display.Math object>"
            ],
            "text/latex": "$\\displaystyle \\left[ \\begin{array}{cccc}3&-2&2&1\\\\1&-1&-1&-3\\\\2&1&2&4\\\\4&-4&1&2\\\\ \\end{array} \\right]\\xrightarrow{\\underset{\\begin{subarray}{c} \\left[\\left(3\\right)\\mathbf{2}\\right]\\\\\\left[\\left(2\\right)\\mathbf{1}+\\mathbf{2} \\right]\\\\\\left[\\left(3\\right)\\mathbf{3}\\right]\\\\\\left[\\left(-2\\right)\\mathbf{1}+\\mathbf{3} \\right]\\\\\\left[\\left(3\\right)\\mathbf{4}\\right]\\\\\\left[\\left(-1\\right)\\mathbf{1}+\\mathbf{4} \\right]\\end{subarray}}{\\pmb{\\tau}}}\\left[ \\begin{array}{cccc}3&0&0&0\\\\1&-1&-5&-10\\\\2&7&2&10\\\\4&-4&-5&2\\\\ \\end{array} \\right]\\xrightarrow{\\underset{\\begin{subarray}{c} \\left[\\left(1\\right)\\mathbf{2}+\\mathbf{1} \\right]\\\\\\left[\\left(-5\\right)\\mathbf{2}+\\mathbf{3} \\right]\\\\\\left[\\left(-10\\right)\\mathbf{2}+\\mathbf{4} \\right]\\end{subarray}}{\\pmb{\\tau}}}\\left[ \\begin{array}{cccc}3&0&0&0\\\\0&-1&0&0\\\\9&7&-33&-60\\\\0&-4&15&42\\\\ \\end{array} \\right]\\xrightarrow{\\underset{\\begin{subarray}{c} \\left[\\left(11\\right)\\mathbf{1}\\right]\\\\\\left[\\left(3\\right)\\mathbf{3}+\\mathbf{1} \\right]\\\\\\left[\\left(33\\right)\\mathbf{2}\\right]\\\\\\left[\\left(7\\right)\\mathbf{3}+\\mathbf{2} \\right]\\\\\\left[\\left(11\\right)\\mathbf{4}\\right]\\\\\\left[\\left(-20\\right)\\mathbf{3}+\\mathbf{4} \\right]\\end{subarray}}{\\pmb{\\tau}}}\\left[ \\begin{array}{cccc}33&0&0&0\\\\0&-33&0&0\\\\0&0&-33&0\\\\45&-27&15&162\\\\ \\end{array} \\right]\\xrightarrow{\\underset{\\begin{subarray}{c} \\left[\\left(18\\right)\\mathbf{1}\\right]\\\\\\left[\\left(-5\\right)\\mathbf{4}+\\mathbf{1} \\right]\\\\\\left[\\left(6\\right)\\mathbf{2}\\right]\\\\\\left[\\left(1\\right)\\mathbf{4}+\\mathbf{2} \\right]\\\\\\left[\\left(54\\right)\\mathbf{3}\\right]\\\\\\left[\\left(-5\\right)\\mathbf{4}+\\mathbf{3} \\right]\\end{subarray}}{\\pmb{\\tau}}}\\left[ \\begin{array}{cccc}594&0&0&0\\\\0&-198&0&0\\\\0&0&-1782&0\\\\0&0&0&162\\\\ \\end{array} \\right]\\xrightarrow{\\underset{\\begin{subarray}{c} \\left[\\left(\\frac{1}{594}\\right)\\mathbf{1}\\right]\\\\\\left[\\left(- \\frac{1}{198}\\right)\\mathbf{2}\\right]\\\\\\left[\\left(- \\frac{1}{1782}\\right)\\mathbf{3}\\right]\\\\\\left[\\left(\\frac{1}{162}\\right)\\mathbf{4}\\right]\\end{subarray}}{\\pmb{\\tau}}}\\left[ \\begin{array}{cccc}1&0&0&0\\\\0&1&0&0\\\\0&0&1&0\\\\0&0&0&1\\\\ \\end{array} \\right]$"
          },
          "metadata": {}
        }
      ]
    },
    {
      "cell_type": "markdown",
      "source": [
        "5. Compara tus resultados del ejercicio 1 con el metodo Elim()"
      ],
      "metadata": {
        "id": "C-GfuE9_Cw_H"
      }
    },
    {
      "cell_type": "markdown",
      "source": [
        "Con el método de eliminación, se elimina una mitad de la diagonal de la matriz, mientras que con el metodo de GJ se eliminan ambos lados de la matriz, dejando solo la diagonal."
      ],
      "metadata": {
        "id": "zshLWIJsbNPo"
      }
    },
    {
      "cell_type": "markdown",
      "source": [
        " 6. Compara tus resultados del ejercicio 4 con el metodo ElimGJ()"
      ],
      "metadata": {
        "id": "LQ2qXfhaIRis"
      }
    },
    {
      "cell_type": "markdown",
      "source": [
        "En ambos casos, con la aplicación del método de GJ se eliminan ambos lados de la matriz, dejando solo la diagonal de la matriz."
      ],
      "metadata": {
        "id": "vQZ5LWHUbhGm"
      }
    },
    {
      "cell_type": "markdown",
      "source": [
        "7. Encuentra la inversa de la matriz del ejercicio 1."
      ],
      "metadata": {
        "id": "2F3XtwbpIhOO"
      }
    },
    {
      "cell_type": "markdown",
      "source": [
        "$\\left[ \\begin{array}{cccc}3&-2&2&1\\\\1&-1&-1&-3\\\\2&1&2&4\\\\4&-4&1&2\\\\ \\end{array} \\right]$"
      ],
      "metadata": {
        "id": "B--73WsTV689"
      }
    },
    {
      "cell_type": "code",
      "source": [
        "x= Vector((3,1,2,4)); y=Vector((-2,-1,1,-4)); z= Vector((2,-1,2,1)); w=Vector((1,-3,4,2))\n",
        "M= Matrix([x,y,z,w])\n",
        "M"
      ],
      "metadata": {
        "colab": {
          "base_uri": "https://localhost:8080/",
          "height": 46
        },
        "id": "QqtuLJsSV0Jg",
        "outputId": "f8204ee1-84ca-4dc3-bbc7-5308821153ec"
      },
      "execution_count": null,
      "outputs": [
        {
          "output_type": "execute_result",
          "data": {
            "text/plain": [
              "Matrix([Vector([3, 1, 2, 4]), Vector([-2, -1, 1, -4]), Vector([2, -1, 2, 1]), Vector([1, -3, 4, 2])])"
            ],
            "text/html": [
              "<p style=\"text-align:center;\">$\\left[ \\begin{array}{cccc}3&-2&2&1\\\\1&-1&-1&-3\\\\2&1&2&4\\\\4&-4&1&2\\\\ \\end{array} \\right]$</p>"
            ],
            "image/png": "$\\left[ \\begin{array}{cccc}3&-2&2&1\\\\1&-1&-1&-3\\\\2&1&2&4\\\\4&-4&1&2\\\\ \\end{array} \\right]$",
            "text/latex": "$\\left[ \\begin{array}{cccc}3&-2&2&1\\\\1&-1&-1&-3\\\\2&1&2&4\\\\4&-4&1&2\\\\ \\end{array} \\right]$"
          },
          "metadata": {},
          "execution_count": 57
        }
      ]
    },
    {
      "cell_type": "markdown",
      "source": [
        "$\\left[ \\begin{array}{cccc}3&-2&2&1\\\\1&-1&-1&-3\\\\2&1&2&4\\\\4&-4&1&2\\\\ \\end{array} \\right]$"
      ],
      "metadata": {
        "id": "xleJq3o2X1mv"
      }
    },
    {
      "cell_type": "code",
      "source": [
        "inversa= M.inversa()\n",
        "print(inversa)\n",
        "inversa"
      ],
      "metadata": {
        "colab": {
          "base_uri": "https://localhost:8080/",
          "height": 136
        },
        "id": "JpYq-q7yWDUI",
        "outputId": "6ffdb845-a864-47d5-d0c9-405722bbf82a"
      },
      "execution_count": null,
      "outputs": [
        {
          "output_type": "stream",
          "name": "stdout",
          "text": [
            "|  -1/6    1/2   7/18   1/18|\n",
            "|  -1/9    1/3  10/27  -5/27|\n",
            "|   7/9   -1/3  -7/27 -10/27|\n",
            "| -5/18   -1/6   5/54  11/54|\n"
          ]
        },
        {
          "output_type": "execute_result",
          "data": {
            "text/plain": [
              "Matrix([Vector([-1/6, -1/9, 7/9, -5/18]), Vector([1/2, 1/3, -1/3, -1/6]), Vector([7/18, 10/27, -7/27, 5/54]), Vector([1/18, -5/27, -10/27, 11/54])])"
            ],
            "text/html": [
              "<p style=\"text-align:center;\">$\\left[ \\begin{array}{cccc}- \\frac{1}{6}&\\frac{1}{2}&\\frac{7}{18}&\\frac{1}{18}\\\\- \\frac{1}{9}&\\frac{1}{3}&\\frac{10}{27}&- \\frac{5}{27}\\\\\\frac{7}{9}&- \\frac{1}{3}&- \\frac{7}{27}&- \\frac{10}{27}\\\\- \\frac{5}{18}&- \\frac{1}{6}&\\frac{5}{54}&\\frac{11}{54}\\\\ \\end{array} \\right]$</p>"
            ],
            "image/png": "$\\left[ \\begin{array}{cccc}- \\frac{1}{6}&\\frac{1}{2}&\\frac{7}{18}&\\frac{1}{18}\\\\- \\frac{1}{9}&\\frac{1}{3}&\\frac{10}{27}&- \\frac{5}{27}\\\\\\frac{7}{9}&- \\frac{1}{3}&- \\frac{7}{27}&- \\frac{10}{27}\\\\- \\frac{5}{18}&- \\frac{1}{6}&\\frac{5}{54}&\\frac{11}{54}\\\\ \\end{array} \\right]$",
            "text/latex": "$\\left[ \\begin{array}{cccc}- \\frac{1}{6}&\\frac{1}{2}&\\frac{7}{18}&\\frac{1}{18}\\\\- \\frac{1}{9}&\\frac{1}{3}&\\frac{10}{27}&- \\frac{5}{27}\\\\\\frac{7}{9}&- \\frac{1}{3}&- \\frac{7}{27}&- \\frac{10}{27}\\\\- \\frac{5}{18}&- \\frac{1}{6}&\\frac{5}{54}&\\frac{11}{54}\\\\ \\end{array} \\right]$"
          },
          "metadata": {},
          "execution_count": 56
        }
      ]
    },
    {
      "cell_type": "markdown",
      "source": [
        "8. Resuelva el siguiente sistema de ecuaciones:\n",
        "\n",
        "$$ \\begin{array}{ccc}5x&+7y&-z&=6\\\\2x&+10y&-2z&=4\\\\x&+y&+z&=0\\\\ \\end{array} $$"
      ],
      "metadata": {
        "id": "tABrI61xarPE"
      }
    }
  ]
}